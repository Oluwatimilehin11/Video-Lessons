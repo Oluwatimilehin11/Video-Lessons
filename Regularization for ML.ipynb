{
 "cells": [
  {
   "cell_type": "code",
   "execution_count": 3,
   "id": "7974b624-3958-4484-92e8-fa6a3d8a73d2",
   "metadata": {},
   "outputs": [],
   "source": [
    "import pandas as pd\n",
    "import numpy as np\n",
    "import matplotlib.pyplot as plt\n",
    "from sklearn import datasets\n",
    "from sklearn.model_selection import train_test_split\n",
    "from sklearn.linear_model import LinearRegression"
   ]
  },
  {
   "cell_type": "code",
   "execution_count": 4,
   "id": "f5f26aed-e8ee-4cb9-9024-54e336c8bef3",
   "metadata": {},
   "outputs": [],
   "source": [
    "boston_dataset = datasets.load_boston()"
   ]
  },
  {
   "cell_type": "code",
   "execution_count": 5,
   "id": "d545459b-84c3-4c22-9a7a-e7a16d0a6d24",
   "metadata": {},
   "outputs": [
    {
     "name": "stdout",
     "output_type": "stream",
     "text": [
      "      CRIM    ZN  INDUS  CHAS    NOX     RM   AGE     DIS  RAD    TAX  \\\n",
      "0  0.00632  18.0   2.31   0.0  0.538  6.575  65.2  4.0900  1.0  296.0   \n",
      "1  0.02731   0.0   7.07   0.0  0.469  6.421  78.9  4.9671  2.0  242.0   \n",
      "2  0.02729   0.0   7.07   0.0  0.469  7.185  61.1  4.9671  2.0  242.0   \n",
      "3  0.03237   0.0   2.18   0.0  0.458  6.998  45.8  6.0622  3.0  222.0   \n",
      "4  0.06905   0.0   2.18   0.0  0.458  7.147  54.2  6.0622  3.0  222.0   \n",
      "\n",
      "   PTRATIO       B  LSTAT  House Price  \n",
      "0     15.3  396.90   4.98         24.0  \n",
      "1     17.8  396.90   9.14         21.6  \n",
      "2     17.8  392.83   4.03         34.7  \n",
      "3     18.7  394.63   2.94         33.4  \n",
      "4     18.7  396.90   5.33         36.2  \n"
     ]
    }
   ],
   "source": [
    "boston_pd = pd.DataFrame(boston_dataset.data)\n",
    "boston_pd.columns = boston_dataset.feature_names\n",
    "boston_pd_target = np.asarray(boston_dataset.target)\n",
    "boston_pd['House Price'] = pd.Series(boston_pd_target)\n",
    "\n",
    "\n",
    "X=boston_pd.iloc[:, :-1]\n",
    "Y=boston_pd.iloc[:, -1]\n",
    "print(boston_pd.head())"
   ]
  },
  {
   "cell_type": "code",
   "execution_count": 6,
   "id": "dd064fed-b1fe-48a7-9b6d-dfc4bc8bde24",
   "metadata": {},
   "outputs": [
    {
     "name": "stdout",
     "output_type": "stream",
     "text": [
      "Train data shape of X = (379, 13) and Y = (379,) : \n",
      "Train data shape of X = (127, 13) and Y = (127,) : \n"
     ]
    }
   ],
   "source": [
    "x_train,x_test,y_train,y_test=train_test_split(\n",
    "boston_pd.iloc[:, :-1],boston_pd.iloc[:,-1],\n",
    "test_size = 0.25)\n",
    "\n",
    "print('Train data shape of X = % s and Y = % s : '%(\n",
    "x_train.shape, y_train.shape))\n",
    "\n",
    "print('Train data shape of X = % s and Y = % s : '%(\n",
    "x_test.shape, y_test.shape))\n"
   ]
  },
  {
   "cell_type": "code",
   "execution_count": 7,
   "id": "a4fedbf3-21e5-4254-9a9d-8496dd694f40",
   "metadata": {},
   "outputs": [
    {
     "data": {
      "text/plain": [
       "LinearRegression()"
      ]
     },
     "execution_count": 7,
     "metadata": {},
     "output_type": "execute_result"
    }
   ],
   "source": [
    "lreg = LinearRegression()\n",
    "lreg.fit(x_train,y_train)"
   ]
  },
  {
   "cell_type": "code",
   "execution_count": 8,
   "id": "0ff6df31-80f3-4ef2-8916-ff0af85dea4f",
   "metadata": {},
   "outputs": [],
   "source": [
    "lreg_y_pred=lreg.predict(x_test)"
   ]
  },
  {
   "cell_type": "code",
   "execution_count": 9,
   "id": "d9a2d1b7-4d18-48a7-8515-f3169fda867b",
   "metadata": {},
   "outputs": [
    {
     "name": "stdout",
     "output_type": "stream",
     "text": [
      "Mean Squared Error on test set :  22.58436561297569\n"
     ]
    }
   ],
   "source": [
    "mean_squared_error= np.mean((lreg_y_pred - y_test)**2)\n",
    "print('Mean Squared Error on test set : ',mean_squared_error)"
   ]
  },
  {
   "cell_type": "code",
   "execution_count": 10,
   "id": "227c69be-427c-40d5-9ba1-506566ba8cbe",
   "metadata": {},
   "outputs": [
    {
     "name": "stdout",
     "output_type": "stream",
     "text": [
      "    columns  Coefficeient Estimate \n",
      "0      CRIM               -0.109436\n",
      "1        ZN                0.042067\n",
      "2     INDUS               -0.052937\n",
      "3      CHAS                2.636125\n",
      "4       NOX              -18.687709\n",
      "5        RM                3.357572\n",
      "6       AGE                0.016548\n",
      "7       DIS               -1.600194\n",
      "8       RAD                0.292487\n",
      "9       TAX               -0.010607\n",
      "10  PTRATIO               -1.000469\n",
      "11        B                0.007575\n",
      "12    LSTAT               -0.616695\n"
     ]
    }
   ],
   "source": [
    "lreg_coefficient = pd.DataFrame()\n",
    "lreg_coefficient['columns']= x_train.columns\n",
    "lreg_coefficient['Coefficeient Estimate ']=pd.Series(lreg.coef_)\n",
    "print(lreg_coefficient)"
   ]
  },
  {
   "cell_type": "code",
   "execution_count": 11,
   "id": "f16d7883-6c08-4493-b818-2251c5ce4b1c",
   "metadata": {},
   "outputs": [
    {
     "data": {
      "image/png": "[encoded data removed]",
      "text/plain": [
       "<Figure size 1440x720 with 1 Axes>"
      ]
     },
     "metadata": {
      "needs_background": "light"
     },
     "output_type": "display_data"
    }
   ],
   "source": [
    "fig, ax=plt.subplots(figsize=(20,10))\n",
    "\n",
    "color=['tab:gray','tab:blue','tab:purple','tab:orange',\n",
    "'tab:green','tab:red','tab:brown','tab:pink','tab:olive',\n",
    "'tab:cyan','tab:blue','tab:olive','tab:green']\n",
    "\n"
   ]
  },
  {
   "cell_type": "code",
   "execution_count": 12,
   "id": "afd0b1db-2b56-4df2-95f9-63c14b2b43e7",
   "metadata": {},
   "outputs": [
    {
     "ename": "KeyError",
     "evalue": "'Columns'",
     "output_type": "error",
     "traceback": [
      "\u001b[1;31m---------------------------------------------------------------------------\u001b[0m",
      "\u001b[1;31mKeyError\u001b[0m                                  Traceback (most recent call last)",
      "\u001b[1;32m~\\Anaconda3\\lib\\site-packages\\pandas\\core\\indexes\\base.py\u001b[0m in \u001b[0;36mget_loc\u001b[1;34m(self, key, method, tolerance)\u001b[0m\n\u001b[0;32m   3079\u001b[0m             \u001b[1;32mtry\u001b[0m\u001b[1;33m:\u001b[0m\u001b[1;33m\u001b[0m\u001b[1;33m\u001b[0m\u001b[0m\n\u001b[1;32m-> 3080\u001b[1;33m                 \u001b[1;32mreturn\u001b[0m \u001b[0mself\u001b[0m\u001b[1;33m.\u001b[0m\u001b[0m_engine\u001b[0m\u001b[1;33m.\u001b[0m\u001b[0mget_loc\u001b[0m\u001b[1;33m(\u001b[0m\u001b[0mcasted_key\u001b[0m\u001b[1;33m)\u001b[0m\u001b[1;33m\u001b[0m\u001b[1;33m\u001b[0m\u001b[0m\n\u001b[0m\u001b[0;32m   3081\u001b[0m             \u001b[1;32mexcept\u001b[0m \u001b[0mKeyError\u001b[0m \u001b[1;32mas\u001b[0m \u001b[0merr\u001b[0m\u001b[1;33m:\u001b[0m\u001b[1;33m\u001b[0m\u001b[1;33m\u001b[0m\u001b[0m\n",
      "\u001b[1;32mpandas\\_libs\\index.pyx\u001b[0m in \u001b[0;36mpandas._libs.index.IndexEngine.get_loc\u001b[1;34m()\u001b[0m\n",
      "\u001b[1;32mpandas\\_libs\\index.pyx\u001b[0m in \u001b[0;36mpandas._libs.index.IndexEngine.get_loc\u001b[1;34m()\u001b[0m\n",
      "\u001b[1;32mpandas\\_libs\\hashtable_class_helper.pxi\u001b[0m in \u001b[0;36mpandas._libs.hashtable.PyObjectHashTable.get_item\u001b[1;34m()\u001b[0m\n",
      "\u001b[1;32mpandas\\_libs\\hashtable_class_helper.pxi\u001b[0m in \u001b[0;36mpandas._libs.hashtable.PyObjectHashTable.get_item\u001b[1;34m()\u001b[0m\n",
      "\u001b[1;31mKeyError\u001b[0m: 'Columns'",
      "\nThe above exception was the direct cause of the following exception:\n",
      "\u001b[1;31mKeyError\u001b[0m                                  Traceback (most recent call last)",
      "\u001b[1;32m<ipython-input-12-36f163d45a5f>\u001b[0m in \u001b[0;36m<module>\u001b[1;34m\u001b[0m\n\u001b[1;32m----> 1\u001b[1;33m ax.bar(lreg_coefficient['Columns'],\n\u001b[0m\u001b[0;32m      2\u001b[0m \u001b[0mlreg_coefficient\u001b[0m\u001b[1;33m[\u001b[0m\u001b[1;34m'Coefficient Estimate'\u001b[0m\u001b[1;33m]\u001b[0m\u001b[1;33m,\u001b[0m\u001b[1;33m\u001b[0m\u001b[1;33m\u001b[0m\u001b[0m\n\u001b[0;32m      3\u001b[0m color=color)\n\u001b[0;32m      4\u001b[0m \u001b[1;33m\u001b[0m\u001b[0m\n\u001b[0;32m      5\u001b[0m \u001b[1;33m\u001b[0m\u001b[0m\n",
      "\u001b[1;32m~\\Anaconda3\\lib\\site-packages\\pandas\\core\\frame.py\u001b[0m in \u001b[0;36m__getitem__\u001b[1;34m(self, key)\u001b[0m\n\u001b[0;32m   3022\u001b[0m             \u001b[1;32mif\u001b[0m \u001b[0mself\u001b[0m\u001b[1;33m.\u001b[0m\u001b[0mcolumns\u001b[0m\u001b[1;33m.\u001b[0m\u001b[0mnlevels\u001b[0m \u001b[1;33m>\u001b[0m \u001b[1;36m1\u001b[0m\u001b[1;33m:\u001b[0m\u001b[1;33m\u001b[0m\u001b[1;33m\u001b[0m\u001b[0m\n\u001b[0;32m   3023\u001b[0m                 \u001b[1;32mreturn\u001b[0m \u001b[0mself\u001b[0m\u001b[1;33m.\u001b[0m\u001b[0m_getitem_multilevel\u001b[0m\u001b[1;33m(\u001b[0m\u001b[0mkey\u001b[0m\u001b[1;33m)\u001b[0m\u001b[1;33m\u001b[0m\u001b[1;33m\u001b[0m\u001b[0m\n\u001b[1;32m-> 3024\u001b[1;33m             \u001b[0mindexer\u001b[0m \u001b[1;33m=\u001b[0m \u001b[0mself\u001b[0m\u001b[1;33m.\u001b[0m\u001b[0mcolumns\u001b[0m\u001b[1;33m.\u001b[0m\u001b[0mget_loc\u001b[0m\u001b[1;33m(\u001b[0m\u001b[0mkey\u001b[0m\u001b[1;33m)\u001b[0m\u001b[1;33m\u001b[0m\u001b[1;33m\u001b[0m\u001b[0m\n\u001b[0m\u001b[0;32m   3025\u001b[0m             \u001b[1;32mif\u001b[0m \u001b[0mis_integer\u001b[0m\u001b[1;33m(\u001b[0m\u001b[0mindexer\u001b[0m\u001b[1;33m)\u001b[0m\u001b[1;33m:\u001b[0m\u001b[1;33m\u001b[0m\u001b[1;33m\u001b[0m\u001b[0m\n\u001b[0;32m   3026\u001b[0m                 \u001b[0mindexer\u001b[0m \u001b[1;33m=\u001b[0m \u001b[1;33m[\u001b[0m\u001b[0mindexer\u001b[0m\u001b[1;33m]\u001b[0m\u001b[1;33m\u001b[0m\u001b[1;33m\u001b[0m\u001b[0m\n",
      "\u001b[1;32m~\\Anaconda3\\lib\\site-packages\\pandas\\core\\indexes\\base.py\u001b[0m in \u001b[0;36mget_loc\u001b[1;34m(self, key, method, tolerance)\u001b[0m\n\u001b[0;32m   3080\u001b[0m                 \u001b[1;32mreturn\u001b[0m \u001b[0mself\u001b[0m\u001b[1;33m.\u001b[0m\u001b[0m_engine\u001b[0m\u001b[1;33m.\u001b[0m\u001b[0mget_loc\u001b[0m\u001b[1;33m(\u001b[0m\u001b[0mcasted_key\u001b[0m\u001b[1;33m)\u001b[0m\u001b[1;33m\u001b[0m\u001b[1;33m\u001b[0m\u001b[0m\n\u001b[0;32m   3081\u001b[0m             \u001b[1;32mexcept\u001b[0m \u001b[0mKeyError\u001b[0m \u001b[1;32mas\u001b[0m \u001b[0merr\u001b[0m\u001b[1;33m:\u001b[0m\u001b[1;33m\u001b[0m\u001b[1;33m\u001b[0m\u001b[0m\n\u001b[1;32m-> 3082\u001b[1;33m                 \u001b[1;32mraise\u001b[0m \u001b[0mKeyError\u001b[0m\u001b[1;33m(\u001b[0m\u001b[0mkey\u001b[0m\u001b[1;33m)\u001b[0m \u001b[1;32mfrom\u001b[0m \u001b[0merr\u001b[0m\u001b[1;33m\u001b[0m\u001b[1;33m\u001b[0m\u001b[0m\n\u001b[0m\u001b[0;32m   3083\u001b[0m \u001b[1;33m\u001b[0m\u001b[0m\n\u001b[0;32m   3084\u001b[0m         \u001b[1;32mif\u001b[0m \u001b[0mtolerance\u001b[0m \u001b[1;32mis\u001b[0m \u001b[1;32mnot\u001b[0m \u001b[1;32mNone\u001b[0m\u001b[1;33m:\u001b[0m\u001b[1;33m\u001b[0m\u001b[1;33m\u001b[0m\u001b[0m\n",
      "\u001b[1;31mKeyError\u001b[0m: 'Columns'"
     ]
    }
   ],
   "source": [
    "ax.bar(lreg_coefficient['Columns'],\n",
    "lreg_coefficient['Coefficient Estimate'],\n",
    "color=color)\n",
    "\n",
    "\n"
   ]
  },
  {
   "cell_type": "code",
   "execution_count": null,
   "id": "aae52911-16e3-420a-b27c-e439418abf83",
   "metadata": {},
   "outputs": [],
   "source": [
    "ax.spines['bottom'].set_position('zero')\n",
    "\n"
   ]
  },
  {
   "cell_type": "code",
   "execution_count": null,
   "id": "dee436d1-9a63-4b83-85d8-16086d716534",
   "metadata": {},
   "outputs": [],
   "source": [
    "\n",
    "\n",
    "plt.style.use('ggplot')\n",
    "plt.show()"
   ]
  },
  {
   "cell_type": "code",
   "execution_count": null,
   "id": "cd99b489-b29e-48cb-98ca-ebf950174652",
   "metadata": {},
   "outputs": [],
   "source": [
    "from sklearn.linear_model import Ridge\n",
    "ridgeR = Ridge(alpha=1)\n",
    "ridgeR.fit(x_train,y_train)\n",
    "y_pred = ridgeR.predict(x_test)"
   ]
  },
  {
   "cell_type": "code",
   "execution_count": null,
   "id": "3340afc8-37f1-47ad-9fa8-baca1162c8a7",
   "metadata": {},
   "outputs": [],
   "source": [
    "mean_squared_error_ridge= np.mean((y_pred - y_test)**2)\n",
    "print('Mean Squared Error on test set : ',mean_squared_error_ridge)"
   ]
  },
  {
   "cell_type": "code",
   "execution_count": null,
   "id": "c998c714-50de-4c92-ba0e-3d5f826e46a4",
   "metadata": {},
   "outputs": [],
   "source": [
    "ridge_coefficient = pd.DataFrame()\n",
    "ridge_coefficient['columns']= x_train.columns\n",
    "ridge_coefficient['Coefficeient Estimate ']=pd.Series(ridgeR.coef_)\n",
    "print(ridge_coefficient)"
   ]
  },
  {
   "cell_type": "code",
   "execution_count": null,
   "id": "2b98afb7-cd73-4aeb-bedc-52d3769d99f7",
   "metadata": {},
   "outputs": [],
   "source": [
    "fig, ax=plt.subplots(figsize=(20,10))\n",
    "\n",
    "color=['tab:gray','tab:blue','tab:orange',\n",
    "'tab:green','tab:red','tab:purple','tab:brown',\n",
    "'tab:pink','tab:gray','tab:olive','tab:cyan',\n",
    "'tab:orange','tab:blue','tab:olive','tab:green']"
   ]
  },
  {
   "cell_type": "code",
   "execution_count": null,
   "id": "b0ac1cb6-a1cd-4412-b788-9aa748e6945a",
   "metadata": {},
   "outputs": [],
   "source": [
    "ax.bar(lreg_coefficient['columns'],\n",
    "lreg_coefficient['Coefficient Estimate'],\n",
    "color = color)"
   ]
  },
  {
   "cell_type": "code",
   "execution_count": null,
   "id": "4a592808-e506-4b7d-bfa3-d8d2d04e09de",
   "metadata": {},
   "outputs": [],
   "source": [
    "ax.spines['bottom'].set_position('zero')"
   ]
  },
  {
   "cell_type": "code",
   "execution_count": null,
   "id": "8af7746a-769c-417a-be89-fe1911c678d4",
   "metadata": {},
   "outputs": [],
   "source": [
    "plt.style.use('ggplot')\n",
    "plt.show()"
   ]
  },
  {
   "cell_type": "markdown",
   "id": "aaa125b3-e2f4-4a1a-9f09-1e4dbf025d2d",
   "metadata": {},
   "source": [
    "### lasso regression"
   ]
  },
  {
   "cell_type": "code",
   "execution_count": null,
   "id": "1d7eef0d-484c-470a-b28d-518ba2bae1c6",
   "metadata": {},
   "outputs": [],
   "source": [
    "from sklearn.linear_model import Lasso\n",
    "lasso = Lasso(alpha=1)\n",
    "lasso.fit(x_train,y_train)\n",
    "y_pred1 = lasso.predict(x_test)"
   ]
  },
  {
   "cell_type": "code",
   "execution_count": null,
   "id": "09d0b301-ac54-466c-8c1b-c256e5e17c06",
   "metadata": {},
   "outputs": [],
   "source": [
    "mean_squared_error= np.mean((y_pred1 - y_test)**2)\n",
    "print('Mean Squared Error on test set : ',mean_squared_error)"
   ]
  },
  {
   "cell_type": "code",
   "execution_count": null,
   "id": "c05c03d2-e0e2-4281-b059-73ef1ac43276",
   "metadata": {},
   "outputs": [],
   "source": [
    "lasso_coeff = pd.DataFrame()\n",
    "lasso_coeff['columns']= x_train.columns\n",
    "lasso_coeff['Coefficeient Estimate ']=pd.Series(lasso.coef_)\n",
    "print(lasso_coeff)"
   ]
  },
  {
   "cell_type": "code",
   "execution_count": null,
   "id": "dd91ded6-4de8-4be7-8d55-cc1ff1873c67",
   "metadata": {},
   "outputs": [],
   "source": [
    "fig, ax=plt.subplots(figsize=(20,10))\n",
    "\n",
    "color=['tab:gray','tab:blue','tab:orange',\n",
    "'tab:green','tab:red','tab:purple','tab:brown',\n",
    "'tab:pink','tab:gray','tab:olive','tab:cyan',\n",
    "'tab:orange','tab:blue','tab:olive','tab:green']"
   ]
  },
  {
   "cell_type": "code",
   "execution_count": null,
   "id": "a6375208-0e2a-4f1c-8937-dd20e0921364",
   "metadata": {},
   "outputs": [],
   "source": [
    "ax.bar(lreg_coefficient['columns'],\n",
    "lreg_coefficient['Coefficient Estimate'],\n",
    "color = color)"
   ]
  },
  {
   "cell_type": "code",
   "execution_count": null,
   "id": "509d6724-19ea-43ae-a107-3695f95f1a98",
   "metadata": {},
   "outputs": [],
   "source": [
    "ax.spines['bottom'].set_position('zero')"
   ]
  },
  {
   "cell_type": "code",
   "execution_count": null,
   "id": "e223abec-f57b-476f-9ff6-bc13c9d9db53",
   "metadata": {},
   "outputs": [],
   "source": [
    "plt.style.use('ggplot')\n",
    "plt.show()"
   ]
  },
  {
   "cell_type": "code",
   "execution_count": null,
   "id": "9dde948e-37a8-4e6e-814a-cb460b17f86f",
   "metadata": {},
   "outputs": [],
   "source": []
  }
 ],
 "metadata": {
  "kernelspec": {
   "display_name": "Python 3",
   "language": "python",
   "name": "python3"
  },
  "language_info": {
   "codemirror_mode": {
    "name": "ipython",
    "version": 3
   },
   "file_extension": ".py",
   "mimetype": "text/x-python",
   "name": "python",
   "nbconvert_exporter": "python",
   "pygments_lexer": "ipython3",
   "version": "3.8.8"
  }
 },
 "nbformat": 4,
 "nbformat_minor": 5
}
