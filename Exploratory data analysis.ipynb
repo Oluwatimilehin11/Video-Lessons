{
 "cells": [
  {
   "cell_type": "markdown",
   "id": "cc5281da-3f41-423c-b751-b2367a0c72fb",
   "metadata": {},
   "source": [
    "### Creating a series"
   ]
  },
  {
   "cell_type": "code",
   "execution_count": 1,
   "id": "30825e43-aa4f-4191-a6ae-63f1d0da8895",
   "metadata": {},
   "outputs": [
    {
     "name": "stdout",
     "output_type": "stream",
     "text": [
      "0    O\n",
      "1    S\n",
      "2    S\n",
      "3    A\n",
      "dtype: object\n",
      "\n",
      "\n",
      "100    O\n",
      "101    S\n",
      "102    S\n",
      "103    A\n",
      "dtype: object\n"
     ]
    }
   ],
   "source": [
    "import pandas as pd\n",
    "import numpy as np\n",
    "data = np.array(['O','S','S','A'])\n",
    "S1 = pd.Series(data) # without adding index\n",
    "S2 = pd.Series(data,index=[100,101,102,103]) # with\n",
    "print (S1) \n",
    "print (\"\\n\") \n",
    "print (S2)"
   ]
  },
  {
   "cell_type": "code",
   "execution_count": 2,
   "id": "7be2a470-6304-48d6-8978-0895efded0c0",
   "metadata": {},
   "outputs": [
    {
     "name": "stdout",
     "output_type": "stream",
     "text": [
      "\n",
      "my_series2\n",
      " [[ 0.24774144  0.58854655  0.12268866 -1.31208951  0.97902244 -2.25878815\n",
      "   0.88354786  0.46307774 -1.10695676 -0.40162485]\n",
      " [-1.93951291 -0.28924318 -0.36629292  0.37012354 -0.67772493 -0.4049549\n",
      "   0.46382013 -1.41460598 -0.95703991  1.5951763 ]\n",
      " [ 3.40963821  0.51255791 -0.14663317 -0.4796104   0.96613101  0.41442542\n",
      "   1.99466136  0.05971957 -0.38008195  0.69964744]\n",
      " [-0.62764508 -0.06552646  0.75401812 -0.31600413  0.52472828 -0.18319707\n",
      "  -0.69962011  0.21473022 -0.67891671  0.02875002]\n",
      " [-0.04855076 -0.09230323 -1.02706381 -0.29543128 -2.15043838 -1.87195983\n",
      "   1.61485675  0.15979152  0.22051776 -2.51808249]]\n"
     ]
    }
   ],
   "source": [
    "import pandas as pd\n",
    "import numpy as np\n",
    "my_series2 = np.random.randn(5, 10)\n",
    "print (\"\\nmy_series2\\n\", my_series2)"
   ]
  },
  {
   "cell_type": "markdown",
   "id": "e683e9d6-a03c-4ab2-95d8-6bcbda9d3a3f",
   "metadata": {},
   "source": [
    "###Creating an Indexed Series\n"
   ]
  },
  {
   "cell_type": "code",
   "execution_count": 3,
   "id": "886ef4de-0dd1-41a4-9e6c-bbe608642cc0",
   "metadata": {},
   "outputs": [
    {
     "name": "stdout",
     "output_type": "stream",
     "text": [
      "X    0.0\n",
      "Y    1.0\n",
      "Z    2.0\n",
      "dtype: float64\n"
     ]
    }
   ],
   "source": [
    "import pandas as pd\n",
    "import numpy as np\n",
    "data = {'X' : 0., 'Y' : 1., 'Z' : 2.}\n",
    "SERIES1 = pd.Series(data)\n",
    "print (SERIES1)"
   ]
  },
  {
   "cell_type": "code",
   "execution_count": 4,
   "id": "54d294b9-f33c-424f-a305-33e055712887",
   "metadata": {},
   "outputs": [
    {
     "name": "stdout",
     "output_type": "stream",
     "text": [
      "Y    1.0\n",
      "Z    2.0\n",
      "W    NaN\n",
      "X    0.0\n",
      "dtype: float64\n"
     ]
    }
   ],
   "source": [
    "import pandas as pd\n",
    "import numpy as np\n",
    "data = {'X' : 0., 'Y' : 1., 'Z' : 2.}\n",
    "SERIES1 = pd.Series(data,index=['Y','Z','W','X'])\n",
    "print (SERIES1)"
   ]
  },
  {
   "cell_type": "markdown",
   "id": "3bd6888e-e051-4f8e-8b68-34f6c1a2b097",
   "metadata": {},
   "source": [
    "###Creating a Series Using a Scalar"
   ]
  },
  {
   "cell_type": "code",
   "execution_count": 5,
   "id": "d97daa0b-05d6-4dc8-be62-b1d7ec9486bc",
   "metadata": {},
   "outputs": [
    {
     "name": "stdout",
     "output_type": "stream",
     "text": [
      "0    7\n",
      "1    7\n",
      "2    7\n",
      "3    7\n",
      "4    7\n",
      "dtype: int64\n"
     ]
    }
   ],
   "source": [
    " # Use sclara to create a series\n",
    "import pandas as pd\n",
    "import numpy as np\n",
    "Series1 = pd.Series(7, index=[0, 1, 2, 3, 4])\n",
    "print (Series1)"
   ]
  },
  {
   "cell_type": "markdown",
   "id": "00cd48a5-61a1-483c-a20a-ad6636e1bfaf",
   "metadata": {},
   "source": [
    "###Accessing a Data Series"
   ]
  },
  {
   "cell_type": "code",
   "execution_count": 6,
   "id": "d30784fb-a0b1-4f58-8168-3b2bdbd8b391",
   "metadata": {},
   "outputs": [
    {
     "name": "stdout",
     "output_type": "stream",
     "text": [
      "Example 1:Retrieve the first element\n",
      "1\n",
      "\n",
      "Example 2:Retrieve the first three element\n",
      "a    1\n",
      "b    2\n",
      "c    3\n",
      "dtype: int64\n",
      "\n",
      "Example 3:Retrieve the last three element\n",
      "c    3\n",
      "d    4\n",
      "e    5\n",
      "dtype: int64\n",
      "\n",
      "Example 4:Retrieve a single element\n",
      "1\n",
      "\n",
      "Example 5:Retrieve multiple elements\n",
      "a    1\n",
      "c    3\n",
      "d    4\n",
      "dtype: int64\n"
     ]
    }
   ],
   "source": [
    "import pandas as pd\n",
    "Series1 = pd.Series([1,2,3,4,5],\n",
    "index =\n",
    " ['a','b','c','d','e'])\n",
    "print (\"Example 1:Retrieve the first element\")\n",
    "print (Series1[0] )\n",
    "print (\"\\nExample 2:Retrieve the first three element\")\n",
    "print (Series1[:3])\n",
    "print (\"\\nExample 3:Retrieve the last three element\")\n",
    "print(Series1[-3:])\n",
    "print (\"\\nExample 4:Retrieve a single element\")\n",
    "print (Series1['a'])\n",
    "print (\"\\nExample 5:Retrieve multiple elements\")\n",
    "print (Series1[['a','c','d']])"
   ]
  },
  {
   "cell_type": "markdown",
   "id": "55fe2445-c5fe-4c0e-b9e3-4ace07c27b11",
   "metadata": {},
   "source": [
    "###Analyzing Series Data"
   ]
  },
  {
   "cell_type": "code",
   "execution_count": 7,
   "id": "19f67a40-97c8-433a-8d8d-21d9fdb9ef37",
   "metadata": {},
   "outputs": [
    {
     "name": "stdout",
     "output_type": "stream",
     "text": [
      "my_series1\n",
      " 0     5\n",
      "1     6\n",
      "2     7\n",
      "3     8\n",
      "4     9\n",
      "5    10\n",
      "dtype: int64\n"
     ]
    }
   ],
   "source": [
    "import pandas as pd\n",
    "import numpy as np\n",
    "my_series1 = pd.Series([5, 6, 7, 8, 9, 10])\n",
    "print (\"my_series1\\n\", my_series1)\n"
   ]
  },
  {
   "cell_type": "code",
   "execution_count": 8,
   "id": "1bb171c2-f851-4fbd-9041-71452951ed27",
   "metadata": {},
   "outputs": [
    {
     "name": "stdout",
     "output_type": "stream",
     "text": [
      "\n",
      " Series Analysis\n",
      " \n"
     ]
    }
   ],
   "source": [
    "print (\"\\n Series Analysis\\n \")"
   ]
  },
  {
   "cell_type": "code",
   "execution_count": 9,
   "id": "c5d9fb44-1590-414f-9f8a-c177769bfa30",
   "metadata": {},
   "outputs": [
    {
     "name": "stdout",
     "output_type": "stream",
     "text": [
      "Series mean value :  7.5\n"
     ]
    }
   ],
   "source": [
    "print (\"Series mean value : \", my_series1.mean()) #\n"
   ]
  },
  {
   "cell_type": "code",
   "execution_count": 10,
   "id": "53b63314-8619-48ff-8c6d-5b7ca63ab689",
   "metadata": {},
   "outputs": [
    {
     "name": "stdout",
     "output_type": "stream",
     "text": [
      "Series max value :  10\n"
     ]
    }
   ],
   "source": [
    "print (\"Series max value : \",my_series1.max()) #"
   ]
  },
  {
   "cell_type": "code",
   "execution_count": 11,
   "id": "65a35e6a-4888-41f3-bae3-7ccd4a624350",
   "metadata": {},
   "outputs": [
    {
     "name": "stdout",
     "output_type": "stream",
     "text": [
      "Series min value :  5\n"
     ]
    }
   ],
   "source": [
    "print (\"Series min value : \",my_series1.min())"
   ]
  },
  {
   "cell_type": "code",
   "execution_count": 12,
   "id": "14571c54-e4f2-4c1f-81fe-798a0b5f2686",
   "metadata": {},
   "outputs": [
    {
     "name": "stdout",
     "output_type": "stream",
     "text": [
      "Series standard deviation value :  1.8708286933869707\n"
     ]
    }
   ],
   "source": [
    "print (\"Series standard deviation value : \",my_series1.std()) "
   ]
  },
  {
   "cell_type": "code",
   "execution_count": 13,
   "id": "c1a474e5-a61d-4832-a818-914a5bf8f71b",
   "metadata": {},
   "outputs": [
    {
     "data": {
      "text/plain": [
       "count     6.000000\n",
       "mean      7.500000\n",
       "std       1.870829\n",
       "min       5.000000\n",
       "25%       6.250000\n",
       "50%       7.500000\n",
       "75%       8.750000\n",
       "max      10.000000\n",
       "dtype: float64"
      ]
     },
     "execution_count": 13,
     "metadata": {},
     "output_type": "execute_result"
    }
   ],
   "source": [
    "my_series1.describe()"
   ]
  },
  {
   "cell_type": "markdown",
   "id": "23711297-c7dd-432b-9d7e-c40b832de629",
   "metadata": {},
   "source": [
    "###Copying a Series to Another with a Reference"
   ]
  },
  {
   "cell_type": "code",
   "execution_count": 14,
   "id": "46a200fa-0b8d-494b-aafe-36b6fe96f586",
   "metadata": {},
   "outputs": [
    {
     "name": "stdout",
     "output_type": "stream",
     "text": [
      "0     5\n",
      "1     6\n",
      "2     7\n",
      "3     8\n",
      "4     9\n",
      "5    10\n",
      "dtype: int64\n",
      "A     5\n",
      "B     6\n",
      "C     7\n",
      "D     8\n",
      "E     9\n",
      "F    10\n",
      "dtype: int64\n",
      "A     5\n",
      "B     6\n",
      "C     7\n",
      "D     8\n",
      "E     9\n",
      "F    10\n",
      "dtype: int64\n"
     ]
    }
   ],
   "source": [
    "my_series_11 = my_series1\n",
    "print (my_series1)\n",
    "my_series_11.index = ['A', 'B', 'C', 'D', 'E', 'F']\n",
    "print (my_series_11)\n",
    "print (my_series1)"
   ]
  },
  {
   "cell_type": "markdown",
   "id": "491549fc-fdeb-4092-9818-8e7a7e66cada",
   "metadata": {},
   "source": [
    "###. Operations on Series"
   ]
  },
  {
   "cell_type": "code",
   "execution_count": 15,
   "id": "dbcae046-11b8-406d-9aac-0afa9699e727",
   "metadata": {},
   "outputs": [
    {
     "data": {
      "text/plain": [
       "True"
      ]
     },
     "execution_count": 15,
     "metadata": {},
     "output_type": "execute_result"
    }
   ],
   "source": [
    "'F' in my_series_11"
   ]
  },
  {
   "cell_type": "code",
   "execution_count": 16,
   "id": "613861b4-515d-4a52-93a6-8a761121a1c8",
   "metadata": {},
   "outputs": [
    {
     "data": {
      "text/plain": [
       "A     True\n",
       "B     True\n",
       "C     True\n",
       "D    False\n",
       "E    False\n",
       "F    False\n",
       "dtype: bool"
      ]
     },
     "execution_count": 16,
     "metadata": {},
     "output_type": "execute_result"
    }
   ],
   "source": [
    " temp = my_series_11 < 8\n",
    "temp"
   ]
  },
  {
   "cell_type": "code",
   "execution_count": 17,
   "id": "4697751c-595a-4465-b8e8-0110c87c76d4",
   "metadata": {},
   "outputs": [
    {
     "data": {
      "text/plain": [
       "6"
      ]
     },
     "execution_count": 17,
     "metadata": {},
     "output_type": "execute_result"
    }
   ],
   "source": [
    " len(my_series_11)"
   ]
  },
  {
   "cell_type": "code",
   "execution_count": 18,
   "id": "837158f2-83ac-4fa2-a2f0-ec70d36a1539",
   "metadata": {},
   "outputs": [
    {
     "data": {
      "text/plain": [
       "A    10\n",
       "B    12\n",
       "C    14\n",
       "dtype: int64"
      ]
     },
     "execution_count": 18,
     "metadata": {},
     "output_type": "execute_result"
    }
   ],
   "source": [
    "temp = my_series_11[my_series_11 < 8 ] * 2\n",
    "temp\n"
   ]
  },
  {
   "cell_type": "markdown",
   "id": "6883f7e4-6bf8-459f-ab2f-d50472f9d60d",
   "metadata": {},
   "source": [
    "###Define a function to add two series and call the function, like this:"
   ]
  },
  {
   "cell_type": "code",
   "execution_count": 19,
   "id": "34068544-b4b8-42e9-84ea-4659120456de",
   "metadata": {},
   "outputs": [],
   "source": [
    "def AddSeries(x,y):\n",
    "    for i in range (len(x)):\n",
    "        print(x[i] + y[i])"
   ]
  },
  {
   "cell_type": "code",
   "execution_count": 20,
   "id": "4b13ff9a-04c1-40de-8842-de3a14f462f7",
   "metadata": {},
   "outputs": [
    {
     "name": "stdout",
     "output_type": "stream",
     "text": [
      "Add two series\n",
      "\n",
      "10\n",
      "12\n",
      "14\n",
      "16\n",
      "18\n",
      "20\n"
     ]
    }
   ],
   "source": [
    "print (\"Add two series\\n\")\n",
    "AddSeries (my_series_11, my_series1)\n"
   ]
  },
  {
   "cell_type": "markdown",
   "id": "3bf61897-4f30-4b0b-a381-6fa94202706d",
   "metadata": {},
   "source": [
    "###Visualizing Data Series"
   ]
  },
  {
   "cell_type": "code",
   "execution_count": 21,
   "id": "dbb11296-d829-4862-8597-eff99d449544",
   "metadata": {},
   "outputs": [
    {
     "data": {
      "image/png": "[encoded data removed]",
      "text/plain": [
       "<Figure size 432x288 with 1 Axes>"
      ]
     },
     "metadata": {
      "needs_background": "light"
     },
     "output_type": "display_data"
    }
   ],
   "source": [
    "import matplotlib.pyplot as plt\n",
    "plt.plot(my_series2)\n",
    "plt.ylabel('index')\n",
    "plt.show()"
   ]
  },
  {
   "cell_type": "code",
   "execution_count": 22,
   "id": "2c5dbff3-ba4b-474a-a38f-d6223b4739b3",
   "metadata": {},
   "outputs": [],
   "source": [
    "from numpy import *\n",
    "import math\n",
    "import matplotlib.pyplot as plt\n",
    "t = linspace(0, 2*math.pi, 400)\n",
    "a = sin(t)\n",
    "b = cos(t)\n",
    "c = a + b"
   ]
  },
  {
   "cell_type": "code",
   "execution_count": 23,
   "id": "9373ae2d-ff36-4560-80a5-412fb558eca9",
   "metadata": {},
   "outputs": [
    {
     "data": {
      "image/png": "[encoded data removed]",
      "text/plain": [
       "<Figure size 432x288 with 1 Axes>"
      ]
     },
     "metadata": {
      "needs_background": "light"
     },
     "output_type": "display_data"
    }
   ],
   "source": [
    "plt.plot(t, a, 'r') # plotting t, a separately\n",
    "plt.plot(t, b, 'b') # plotting t, b separately\n",
    "plt.plot(t, c, 'g') # plotting t, c separately\n",
    "plt.show()"
   ]
  },
  {
   "cell_type": "markdown",
   "id": "09818937-88e0-448e-9197-811ce9856c0b",
   "metadata": {},
   "source": [
    "###Creating a Data Frame from a List"
   ]
  },
  {
   "cell_type": "code",
   "execution_count": 24,
   "id": "dd8a6125-a6bc-4a79-bab6-43847090e763",
   "metadata": {},
   "outputs": [
    {
     "name": "stdout",
     "output_type": "stream",
     "text": [
      "    0\n",
      "0  10\n",
      "1  20\n",
      "2  30\n",
      "3  40\n",
      "4  50\n"
     ]
    }
   ],
   "source": [
    " import pandas as pd\n",
    "data = [10,20,30,40,50]\n",
    "DF1 = pd.DataFrame(data)\n",
    "print (DF1)"
   ]
  },
  {
   "cell_type": "code",
   "execution_count": 25,
   "id": "731f49e9-e619-4676-a497-be6178c1387d",
   "metadata": {},
   "outputs": [
    {
     "name": "stdout",
     "output_type": "stream",
     "text": [
      "     Name  Age\n",
      "0  Ossama   25\n",
      "1     Ali   43\n",
      "2    Ziad   32\n"
     ]
    }
   ],
   "source": [
    "import pandas as pd\n",
    "data = [['Ossama',25],['Ali',43],['Ziad',32]]\n",
    "DF1 = pd.DataFrame(data,columns=['Name','Age'])\n",
    "print (DF1)"
   ]
  },
  {
   "cell_type": "code",
   "execution_count": 26,
   "id": "3d58ebb5-f2c8-4463-a6c8-a6dc2325b897",
   "metadata": {},
   "outputs": [
    {
     "name": "stdout",
     "output_type": "stream",
     "text": [
      "     Name   Age\n",
      "0  Ossama  25.0\n",
      "1     Ali  43.0\n",
      "2    Ziad  32.0\n"
     ]
    }
   ],
   "source": [
    "import pandas as pd\n",
    "data = [['Ossama',25],['Ali',43],['Ziad',32]]\n",
    "DF1 = pd.DataFrame(data,columns=['Name','Age'],\n",
    "dtype=float) \n",
    "print (DF1)"
   ]
  },
  {
   "cell_type": "markdown",
   "id": "b4d0aa4a-f212-40eb-9eee-c18024123157",
   "metadata": {},
   "source": [
    "###. Creating a DataFrame from a Dictionary"
   ]
  },
  {
   "cell_type": "code",
   "execution_count": 32,
   "id": "0bf67f69-e0fe-4dce-8669-06926fb84d16",
   "metadata": {},
   "outputs": [
    {
     "ename": "SyntaxError",
     "evalue": "invalid syntax (<ipython-input-32-cfd7f37b456a>, line 11)",
     "output_type": "error",
     "traceback": [
      "\u001b[1;36m  File \u001b[1;32m\"<ipython-input-32-cfd7f37b456a>\"\u001b[1;36m, line \u001b[1;32m11\u001b[0m\n\u001b[1;33m    print(DF1)\u001b[0m\n\u001b[1;37m    ^\u001b[0m\n\u001b[1;31mSyntaxError\u001b[0m\u001b[1;31m:\u001b[0m invalid syntax\n"
     ]
    }
   ],
   "source": [
    " import pandas as pd\n",
    " data = [{'Test1': 10, 'Test2': 20},{'Test1': 30,\n",
    "'Test2': 20, 'Project': 20}]\n",
    "# With three column indices, values same as dictionary keys\n",
    "DF1 = pd.DataFrame(data, index=['First', 'Second'],\n",
    "columns=['Test2', 'Project' , 'Test1'])\n",
    "#With two column indices with one index with another\n",
    "name\n",
    "df2 = pd.DataFrame(data, index=['First', 'Second'],\n",
    "columns=['Project', 'Test_1','Test2']\n",
    "print(DF1)\n",
    "print (\"\\n\")\n",
    "print (df2)"
   ]
  },
  {
   "cell_type": "code",
   "execution_count": 33,
   "id": "22e87120-e53d-4df3-a851-41b8fb35d34b",
   "metadata": {},
   "outputs": [],
   "source": [
    " import pandas as pd\n",
    " data = [{'Test1': 10, 'Test2': 20},{'Test1': 30,\n",
    "'Test2': 20, 'Project': 20}]\n",
    "# With three column indices, values same as dictionary keys"
   ]
  },
  {
   "cell_type": "code",
   "execution_count": 34,
   "id": "fb77cd82-a991-4138-85b5-f3d101a786fc",
   "metadata": {},
   "outputs": [
    {
     "name": "stdout",
     "output_type": "stream",
     "text": [
      "        Test2  Project  Test1\n",
      "First      20      NaN     10\n",
      "Second     20     20.0     30\n"
     ]
    }
   ],
   "source": [
    "df1 = pd.DataFrame(data, index=['First', 'Second'],\n",
    "columns=['Test2', 'Project' , 'Test1'])\n",
    "#With two column indices with one index with another name\n",
    "df2 = pd.DataFrame(data, index=['First', 'Second'],\n",
    "columns=['Project', 'Test_1','Test2'])\n",
    "print(df1)\n"
   ]
  },
  {
   "cell_type": "code",
   "execution_count": 35,
   "id": "59683335-575d-4165-bae4-4e11c7a6de34",
   "metadata": {},
   "outputs": [
    {
     "name": "stdout",
     "output_type": "stream",
     "text": [
      "\n",
      "\n",
      "        Project  Test_1  Test2\n",
      "First       NaN     NaN     20\n",
      "Second     20.0     NaN     20\n"
     ]
    }
   ],
   "source": [
    "print (\"\\n\")\n",
    "print (df2)"
   ]
  },
  {
   "cell_type": "markdown",
   "id": "e78086f7-956d-4355-bdce-97174fd63fa0",
   "metadata": {},
   "source": [
    "\n",
    "\n",
    "### Creating a Data Frame from a Series"
   ]
  },
  {
   "cell_type": "code",
   "execution_count": 36,
   "id": "acf7fb4b-9704-4f75-8a9d-f16a9b409dc5",
   "metadata": {},
   "outputs": [
    {
     "name": "stdout",
     "output_type": "stream",
     "text": [
      "       Test1  Test2\n",
      "Ahmed   70.0     56\n",
      "Ali     89.0     77\n",
      "Omar    55.0     82\n",
      "Salwa    NaN     65\n"
     ]
    }
   ],
   "source": [
    "import pandas as pd\n",
    "data = {'Test1' : pd.Series([70, 55, 89],\n",
    "index=['Ahmed', 'Omar', 'Ali']), 'Test2' : pd.Series([56, 82, 77, 65],\n",
    "index=['Ahmed', 'Omar', 'Ali', 'Salwa'])}\n",
    "df1 = pd.DataFrame(data)\n",
    "print (df1)"
   ]
  },
  {
   "cell_type": "markdown",
   "id": "eb98a1cc-4a14-405d-85ce-741ece078250",
   "metadata": {},
   "source": [
    "### Data Frame Column Selection"
   ]
  },
  {
   "cell_type": "code",
   "execution_count": 37,
   "id": "21d38a76-9811-40f0-9d81-927abab54e92",
   "metadata": {},
   "outputs": [
    {
     "name": "stdout",
     "output_type": "stream",
     "text": [
      "Ahmed    56\n",
      "Ali      77\n",
      "Omar     82\n",
      "Salwa    65\n",
      "Name: Test2, dtype: int64\n",
      "\n",
      "\n",
      "       Test1  Test2\n",
      "Ahmed   70.0     56\n",
      "Ali     89.0     77\n",
      "Omar    55.0     82\n",
      "Salwa    NaN     65\n"
     ]
    }
   ],
   "source": [
    "import pandas as pd\n",
    "data = {'Test1' : pd.Series([70, 55, 89],\n",
    "index=['Ahmed', 'Omar', 'Ali']), 'Test2' : pd.Series([56, 82, 77, 65],\n",
    "index=['Ahmed', 'Omar', 'Ali', 'Salwa'])}\n",
    "df1 = pd.DataFrame(data)\n",
    "print (df1['Test2']) # Column selection\n",
    "print(\"\\n\")\n",
    "print (df1[:]) # Column selection"
   ]
  },
  {
   "cell_type": "markdown",
   "id": "b7b311fa-6415-44fa-82c4-36e29f5060a8",
   "metadata": {},
   "source": [
    "### Data Frame Column and Row Selection\n"
   ]
  },
  {
   "cell_type": "code",
   "execution_count": 38,
   "id": "9090cc82-813e-4e25-ac1e-5189a27bca7e",
   "metadata": {},
   "outputs": [
    {
     "data": {
      "text/html": [
       "<div>\n",
       "<style scoped>\n",
       "    .dataframe tbody tr th:only-of-type {\n",
       "        vertical-align: middle;\n",
       "    }\n",
       "\n",
       "    .dataframe tbody tr th {\n",
       "        vertical-align: top;\n",
       "    }\n",
       "\n",
       "    .dataframe thead th {\n",
       "        text-align: right;\n",
       "    }\n",
       "</style>\n",
       "<table border=\"1\" class=\"dataframe\">\n",
       "  <thead>\n",
       "    <tr style=\"text-align: right;\">\n",
       "      <th></th>\n",
       "      <th>Test2</th>\n",
       "      <th>Test1</th>\n",
       "    </tr>\n",
       "  </thead>\n",
       "  <tbody>\n",
       "    <tr>\n",
       "      <th>Ahmed</th>\n",
       "      <td>56</td>\n",
       "      <td>70.0</td>\n",
       "    </tr>\n",
       "    <tr>\n",
       "      <th>Ali</th>\n",
       "      <td>77</td>\n",
       "      <td>89.0</td>\n",
       "    </tr>\n",
       "    <tr>\n",
       "      <th>Omar</th>\n",
       "      <td>82</td>\n",
       "      <td>55.0</td>\n",
       "    </tr>\n",
       "    <tr>\n",
       "      <th>Salwa</th>\n",
       "      <td>65</td>\n",
       "      <td>NaN</td>\n",
       "    </tr>\n",
       "  </tbody>\n",
       "</table>\n",
       "</div>"
      ],
      "text/plain": [
       "       Test2  Test1\n",
       "Ahmed     56   70.0\n",
       "Ali       77   89.0\n",
       "Omar      82   55.0\n",
       "Salwa     65    NaN"
      ]
     },
     "execution_count": 38,
     "metadata": {},
     "output_type": "execute_result"
    }
   ],
   "source": [
    "In [46]: df1.iloc[:, [1,0 ]]"
   ]
  },
  {
   "cell_type": "code",
   "execution_count": 39,
   "id": "b8e00c7d-1a2b-4695-8f4e-f2e794be1478",
   "metadata": {},
   "outputs": [
    {
     "data": {
      "text/html": [
       "<div>\n",
       "<style scoped>\n",
       "    .dataframe tbody tr th:only-of-type {\n",
       "        vertical-align: middle;\n",
       "    }\n",
       "\n",
       "    .dataframe tbody tr th {\n",
       "        vertical-align: top;\n",
       "    }\n",
       "\n",
       "    .dataframe thead th {\n",
       "        text-align: right;\n",
       "    }\n",
       "</style>\n",
       "<table border=\"1\" class=\"dataframe\">\n",
       "  <thead>\n",
       "    <tr style=\"text-align: right;\">\n",
       "      <th></th>\n",
       "      <th>Test1</th>\n",
       "      <th>Test2</th>\n",
       "    </tr>\n",
       "  </thead>\n",
       "  <tbody>\n",
       "    <tr>\n",
       "      <th>Ahmed</th>\n",
       "      <td>70.0</td>\n",
       "      <td>56</td>\n",
       "    </tr>\n",
       "    <tr>\n",
       "      <th>Ali</th>\n",
       "      <td>89.0</td>\n",
       "      <td>77</td>\n",
       "    </tr>\n",
       "    <tr>\n",
       "      <th>Omar</th>\n",
       "      <td>55.0</td>\n",
       "      <td>82</td>\n",
       "    </tr>\n",
       "    <tr>\n",
       "      <th>Salwa</th>\n",
       "      <td>NaN</td>\n",
       "      <td>65</td>\n",
       "    </tr>\n",
       "  </tbody>\n",
       "</table>\n",
       "</div>"
      ],
      "text/plain": [
       "       Test1  Test2\n",
       "Ahmed   70.0     56\n",
       "Ali     89.0     77\n",
       "Omar    55.0     82\n",
       "Salwa    NaN     65"
      ]
     },
     "execution_count": 39,
     "metadata": {},
     "output_type": "execute_result"
    }
   ],
   "source": [
    "In [39]: df1[0:4:1]"
   ]
  },
  {
   "cell_type": "markdown",
   "id": "5aaf7060-5e8f-425e-a1ec-f1073c3e2a8f",
   "metadata": {},
   "source": [
    "### Adding a New Column to a Data Frame"
   ]
  },
  {
   "cell_type": "code",
   "execution_count": 40,
   "id": "99c3d3f6-e169-4097-9c6b-afb95486d61d",
   "metadata": {},
   "outputs": [
    {
     "name": "stdout",
     "output_type": "stream",
     "text": [
      "       Test1  Test2\n",
      "Ahmed   70.0     56\n",
      "Ali     89.0     77\n",
      "Omar    55.0     82\n",
      "Salwa    NaN     65\n",
      "\n",
      "\n",
      "       Test1  Test2  Project  Average\n",
      "Ahmed   70.0     56       87    71.00\n",
      "Ali     89.0     77       90    85.33\n",
      "Omar    55.0     82       83    73.33\n",
      "Salwa    NaN     65       67      NaN\n"
     ]
    }
   ],
   "source": [
    " # add a new Column\n",
    "import pandas as pd\n",
    "data = {'Test1' : pd.Series([70, 55, 89],\n",
    "index=['Ahmed', 'Omar', 'Ali']), 'Test2' : pd.Series([56, 82, 77, 65],\n",
    "index=['Ahmed', 'Omar', 'Ali', 'Salwa'])}\n",
    "df1 = pd.DataFrame(data)\n",
    "print (df1)\n",
    "df1['Project'] = pd.Series([90,83,67, 87],\n",
    "index=['Ali','Omar','Salwa', 'Ahmed'])\n",
    "print (\"\\n\")\n",
    "df1['Average'] = round((df1['Test1']+df1['Test2']+\n",
    "df1['Project'])/3, 2)\n",
    "print (df1)"
   ]
  },
  {
   "cell_type": "markdown",
   "id": "e90fdee4-1169-49c4-8c76-fc18ceb28f55",
   "metadata": {},
   "source": [
    "### Creating and Copying a Data Frame"
   ]
  },
  {
   "cell_type": "code",
   "execution_count": 41,
   "id": "c4530cd8-51bc-42c8-9c77-57447dff5653",
   "metadata": {},
   "outputs": [
    {
     "name": "stdout",
     "output_type": "stream",
     "text": [
      "       Test1  Test2  Project  Average\n",
      "Ahmed   70.0     56       87    71.00\n",
      "Ali     89.0     77       90    85.33\n",
      "Omar    55.0     82       83    73.33\n",
      "Salwa    NaN     65       67      NaN\n",
      "\n",
      "\n",
      "       Test1  Test2  Project  Average\n",
      "Ahmed   70.0     56       87    71.00\n",
      "Ali     89.0     77       90    85.33\n",
      "Omar    55.0     82       83    73.33\n",
      "Salwa    NaN     65       67      NaN\n"
     ]
    }
   ],
   "source": [
    " import pandas as pd\n",
    "data = {'Test1' : pd.Series([70, 55, 89],\n",
    "index=['Ahmed', 'Omar', 'Ali']),\n",
    "'Test2' : pd.Series([56, 82, 77, 65],\n",
    "index=['Ahmed', 'Omar', 'Ali', 'Salwa'])}\n",
    "print (df1)\n",
    "df2 = df1\n",
    "print (\"\\n\")\n",
    "print (df2)"
   ]
  },
  {
   "cell_type": "markdown",
   "id": "619bc914-7ee7-49f3-bbbe-db8ce27df10f",
   "metadata": {},
   "source": [
    "### Deleting Columns from a Data Frame"
   ]
  },
  {
   "cell_type": "code",
   "execution_count": 42,
   "id": "facf3d87-2470-4d5d-949a-482abf8c6677",
   "metadata": {},
   "outputs": [
    {
     "name": "stdout",
     "output_type": "stream",
     "text": [
      "Deleting the first column using DEL function:\n",
      "       Test1  Project  Average\n",
      "Ahmed   70.0       87    71.00\n",
      "Ali     89.0       90    85.33\n",
      "Omar    55.0       83    73.33\n",
      "Salwa    NaN       67      NaN\n",
      "\n",
      "Deleting another column using POP function:\n",
      "       Test1  Average\n",
      "Ahmed   70.0    71.00\n",
      "Ali     89.0    85.33\n",
      "Omar    55.0    73.33\n",
      "Salwa    NaN      NaN\n"
     ]
    }
   ],
   "source": [
    "# Delete a column in data frame using del function\n",
    "print (\"Deleting the first column using DEL function:\")\n",
    "del df2['Test2']\n",
    "print (df2)\n",
    "# Delete a column in data frame using pop function\n",
    "print (\"\\nDeleting another column using POP function:\")\n",
    "df2.pop('Project')\n",
    "print (df2)\n"
   ]
  },
  {
   "cell_type": "code",
   "execution_count": 43,
   "id": "b6007358-bb6f-48f1-a4be-ecdde0c68064",
   "metadata": {},
   "outputs": [
    {
     "name": "stdout",
     "output_type": "stream",
     "text": [
      "       Test1  Average\n",
      "Ahmed   70.0    71.00\n",
      "Ali     89.0    85.33\n",
      "Omar    55.0    73.33\n",
      "Salwa    NaN      NaN\n"
     ]
    }
   ],
   "source": [
    "print (df1)"
   ]
  },
  {
   "cell_type": "code",
   "execution_count": 44,
   "id": "da43f8ae-db19-4015-9eec-4bc5d251d487",
   "metadata": {},
   "outputs": [
    {
     "name": "stdout",
     "output_type": "stream",
     "text": [
      "       Test1  Average\n",
      "Ahmed   70.0    71.00\n",
      "Ali     89.0    85.33\n",
      "Omar    55.0    73.33\n",
      "Salwa    NaN      NaN\n"
     ]
    }
   ],
   "source": [
    " print (df2)"
   ]
  },
  {
   "cell_type": "markdown",
   "id": "2fb19260-142c-43e9-bfe7-831e5a5d00d3",
   "metadata": {},
   "source": [
    "### Using the Copy Method to Delete Columns from a Data Frame"
   ]
  },
  {
   "cell_type": "code",
   "execution_count": 45,
   "id": "ab365b95-8626-44bd-b32c-211834324d48",
   "metadata": {},
   "outputs": [
    {
     "name": "stdout",
     "output_type": "stream",
     "text": [
      "\n",
      "\n",
      "       Test1  Test2  Project  Average\n",
      "Ahmed   70.0     56       87    71.00\n",
      "Ali     89.0     77       90    85.33\n",
      "Omar    55.0     82       83    73.33\n",
      "Salwa    NaN     65       67      NaN\n",
      "\n",
      "\n",
      "       Test1  Test2  Project  Average\n",
      "Ahmed   70.0     56       87    71.00\n",
      "Ali     89.0     77       90    85.33\n",
      "Omar    55.0     82       83    73.33\n",
      "Salwa    NaN     65       67      NaN\n"
     ]
    }
   ],
   "source": [
    "# add a new Column\n",
    "import pandas as pd\n",
    "data = {'Test1' : pd.Series([70, 55, 89],\n",
    "index=['Ahmed', 'Omar', 'Ali']),\n",
    " 'Test2' : pd.Series([56, 82, 77, 65],\n",
    "index=['Ahmed', 'Omar', 'Ali', 'Salwa'])}\n",
    "df1 = pd.DataFrame(data)\n",
    "df1['Project'] = pd.Series([90,83,67, 87],\n",
    "index=['Ali','Omar','Salwa', 'Ahmed'])\n",
    "print (\"\\n\")\n",
    "df1['Average'] = round((df1['Test1']+df1['Test2']+df1\n",
    "['Project'])/3, 2)\n",
    "print (df1)\n",
    "print (\"\\n\")\n",
    "df2= df1.copy() # copy df1 into df2 using copy() method\n",
    "print (df2)\n",
    "#delete columns using del and pop methods\n",
    "del df2['Test2']"
   ]
  },
  {
   "cell_type": "code",
   "execution_count": 46,
   "id": "7993df5c-7d02-4e07-b2a7-091d8292f868",
   "metadata": {},
   "outputs": [
    {
     "name": "stdout",
     "output_type": "stream",
     "text": [
      "\n",
      "\n",
      "       Test1  Test2  Project  Average\n",
      "Ahmed   70.0     56       87    71.00\n",
      "Ali     89.0     77       90    85.33\n",
      "Omar    55.0     82       83    73.33\n",
      "Salwa    NaN     65       67      NaN\n",
      "\n",
      "\n",
      "       Test1  Average\n",
      "Ahmed   70.0    71.00\n",
      "Ali     89.0    85.33\n",
      "Omar    55.0    73.33\n",
      "Salwa    NaN      NaN\n"
     ]
    }
   ],
   "source": [
    "df2.pop('Project')\n",
    "print (\"\\n\")\n",
    "print (df1)\n",
    "print (\"\\n\")\n",
    "print (df2)"
   ]
  },
  {
   "cell_type": "markdown",
   "id": "2017f8fb-0a3d-4d05-859b-4702e7b6bb49",
   "metadata": {},
   "source": [
    "### Retrieving Specific Rows"
   ]
  },
  {
   "cell_type": "code",
   "execution_count": 47,
   "id": "75877c2a-5fa8-4dd1-a364-d7a7359da6b8",
   "metadata": {},
   "outputs": [
    {
     "name": "stdout",
     "output_type": "stream",
     "text": [
      "\n",
      "\n",
      "       Test1  Test2  Project  Average\n",
      "Ahmed   70.0     56       87    71.00\n",
      "Ali     89.0     77       90    85.33\n",
      "Omar    55.0     82       83    73.33\n",
      "Salwa    NaN     65       67      NaN\n",
      "\n",
      "select iloc function to retrieve row number 2\n",
      "Test1      55.00\n",
      "Test2      82.00\n",
      "Project    83.00\n",
      "Average    73.33\n",
      "Name: Omar, dtype: float64\n",
      "\n",
      "slice rows\n",
      "       Test1  Test2  Project  Average\n",
      "Omar    55.0     82       83    73.33\n",
      "Salwa    NaN     65       67      NaN\n"
     ]
    }
   ],
   "source": [
    "# add a new Column\n",
    "import pandas as pd\n",
    "data = {'Test1' : pd.Series([70, 55, 89],\n",
    "index=['Ahmed', 'Omar', 'Ali']), 'Test2' : pd.Series([56, 82, 77, 65],\n",
    "index=['Ahmed', 'Omar', 'Ali', 'Salwa'])}\n",
    "df1 = pd.DataFrame(data)\n",
    "df1['Project'] = pd.Series([90,83,67, 87],index=\n",
    "['Ali','Omar','Salwa', 'Ahmed'])\n",
    "print (\"\\n\")\n",
    "df1['Average'] = round((df1['Test1']+df1['Test2']+df1\n",
    "['Project'])/3, 2)\n",
    "print (df1)\n",
    "print (\"\\nselect iloc function to retrieve row number 2\")\n",
    "print (df1.iloc[2])\n",
    "print (\"\\nslice rows\")\n",
    "print (df1[2:4] )"
   ]
  },
  {
   "cell_type": "markdown",
   "id": "5535afa3-293f-45ba-8b7a-4f64e568faa2",
   "metadata": {},
   "source": [
    "### Adding New Rows to the Data Frame"
   ]
  },
  {
   "cell_type": "code",
   "execution_count": 50,
   "id": "0e894940-c20a-48bc-9bd8-c569ae5f5868",
   "metadata": {},
   "outputs": [
    {
     "ename": "SyntaxError",
     "evalue": "invalid syntax (<ipython-input-50-a7cb23b2cb9f>, line 7)",
     "output_type": "error",
     "traceback": [
      "\u001b[1;36m  File \u001b[1;32m\"<ipython-input-50-a7cb23b2cb9f>\"\u001b[1;36m, line \u001b[1;32m7\u001b[0m\n\u001b[1;33m    data = pd.DataFrame(data)\u001b[0m\n\u001b[1;37m    ^\u001b[0m\n\u001b[1;31mSyntaxError\u001b[0m\u001b[1;31m:\u001b[0m invalid syntax\n"
     ]
    }
   ],
   "source": [
    "import pandas as pd\n",
    "data = {'Test1' : pd.Series([70, 55, 89],\n",
    "index=['Ahmed', 'Omar', 'Ali']), 'Test2' : pd.Series([56, 82, 77, 65],\n",
    "index=['Ahmed', 'Omar', 'Ali', 'Salwa']), 'Project' : pd.Series([87, 83, 90, 67],\n",
    "index=['Ahmed', 'Omar', 'Ali', 'Salwa']), 'Average' : pd.Series([71, 73.33, 85.33, 66],\n",
    "index=['Ahmed', 'Omar', 'Ali', 'Salw'])\n",
    "data = pd.DataFrame(data)\n",
    "print (data)\n",
    "print(\"\\n\")\n"
   ]
  },
  {
   "cell_type": "markdown",
   "id": "692f5aaa-f56a-4794-a8b9-31e1230dcb87",
   "metadata": {},
   "source": [
    "### Deleting Rows from a Data Frame"
   ]
  },
  {
   "cell_type": "code",
   "execution_count": 49,
   "id": "7846af88-74be-4ec9-951e-d06634a05161",
   "metadata": {},
   "outputs": [
    {
     "name": "stdout",
     "output_type": "stream",
     "text": [
      "{'Test1': Ahmed    70\n",
      "Omar     55\n",
      "Ali      89\n",
      "dtype: int64, 'Test2': Ahmed    56\n",
      "Omar     82\n",
      "Ali      77\n",
      "Salwa    65\n",
      "dtype: int64}\n",
      "\n",
      "\n"
     ]
    },
    {
     "ename": "AttributeError",
     "evalue": "'dict' object has no attribute 'drop'",
     "output_type": "error",
     "traceback": [
      "\u001b[1;31m---------------------------------------------------------------------------\u001b[0m",
      "\u001b[1;31mAttributeError\u001b[0m                            Traceback (most recent call last)",
      "\u001b[1;32m<ipython-input-49-963c3c4151a0>\u001b[0m in \u001b[0;36m<module>\u001b[1;34m\u001b[0m\n\u001b[0;32m      1\u001b[0m \u001b[0mprint\u001b[0m \u001b[1;33m(\u001b[0m\u001b[0mdata\u001b[0m\u001b[1;33m)\u001b[0m\u001b[1;33m\u001b[0m\u001b[1;33m\u001b[0m\u001b[0m\n\u001b[0;32m      2\u001b[0m \u001b[0mprint\u001b[0m \u001b[1;33m(\u001b[0m\u001b[1;34m'\\n'\u001b[0m\u001b[1;33m)\u001b[0m\u001b[1;33m\u001b[0m\u001b[1;33m\u001b[0m\u001b[0m\n\u001b[1;32m----> 3\u001b[1;33m \u001b[0mdata\u001b[0m \u001b[1;33m=\u001b[0m \u001b[0mdata\u001b[0m\u001b[1;33m.\u001b[0m\u001b[0mdrop\u001b[0m\u001b[1;33m(\u001b[0m\u001b[1;34m'Omar'\u001b[0m\u001b[1;33m)\u001b[0m\u001b[1;33m\u001b[0m\u001b[1;33m\u001b[0m\u001b[0m\n\u001b[0m\u001b[0;32m      4\u001b[0m \u001b[0mprint\u001b[0m \u001b[1;33m(\u001b[0m\u001b[0mdata\u001b[0m\u001b[1;33m)\u001b[0m\u001b[1;33m\u001b[0m\u001b[1;33m\u001b[0m\u001b[0m\n",
      "\u001b[1;31mAttributeError\u001b[0m: 'dict' object has no attribute 'drop'"
     ]
    }
   ],
   "source": [
    "print (data)\n",
    "print ('\\n')\n",
    "data = data.drop('Omar')\n",
    "print (data)"
   ]
  },
  {
   "cell_type": "markdown",
   "id": "3e0dd419-a382-4d40-869c-971169cfbe6d",
   "metadata": {},
   "source": [
    "### Creating a Data Frame with Five Attributes"
   ]
  },
  {
   "cell_type": "code",
   "execution_count": 5,
   "id": "0d50d114-94f8-478d-96d6-c3d507fef1e7",
   "metadata": {},
   "outputs": [
    {
     "ename": "SyntaxError",
     "evalue": "invalid syntax (<ipython-input-5-ccc793be945c>, line 4)",
     "output_type": "error",
     "traceback": [
      "\u001b[1;36m  File \u001b[1;32m\"<ipython-input-5-ccc793be945c>\"\u001b[1;36m, line \u001b[1;32m4\u001b[0m\n\u001b[1;33m    index=['Ahmed', 'Omar', 'Ali', 'Height' : pd.Series([160, 154, 175, 165],\u001b[0m\n\u001b[1;37m                                            ^\u001b[0m\n\u001b[1;31mSyntaxError\u001b[0m\u001b[1;31m:\u001b[0m invalid syntax\n"
     ]
    }
   ],
   "source": [
    "print (df1)\n",
    "data = {'Age' : pd.Series([30, 25, 44, ],\n",
    "index=['Ahmed', 'Omar', 'Ali']), 'Salary' : pd.Series([25000, 17000, 30000, 12000],\n",
    "index=['Ahmed', 'Omar', 'Ali', 'Height' : pd.Series([160, 154, 175, 165],\n",
    "index=['Ahmed', 'Omar', 'Ali', 'Salwa' 'Weight' : \n",
    "       pd.Series([85, 70, 92, 65], index=['Ahmed', 'Omar', 'Ali', 'Salwa']), 'Gender' : pd.Series(['Male', 'Male', 'Male', 'Female'],\n",
    "index=['Ahmed', 'Omar',\n",
    "data = pd.DataFrame(data)\n",
    "print (data)\n",
    "print(\"\\n\")\n",
    "df2 = pd.DataFrame([[42, 31000, 170, 80, 'Female']], columns =['Age','Salary','Height', index=['Mona'])\n",
    "data = data.append(df2)\n",
    "print (data)"
   ]
  },
  {
   "cell_type": "code",
   "execution_count": null,
   "id": "78f634fd-1eee-4bb2-87b7-6a57c41c3c8a",
   "metadata": {},
   "outputs": [],
   "source": []
  }
 ],
 "metadata": {
  "kernelspec": {
   "display_name": "Python 3",
   "language": "python",
   "name": "python3"
  },
  "language_info": {
   "codemirror_mode": {
    "name": "ipython",
    "version": 3
   },
   "file_extension": ".py",
   "mimetype": "text/x-python",
   "name": "python",
   "nbconvert_exporter": "python",
   "pygments_lexer": "ipython3",
   "version": "3.8.8"
  }
 },
 "nbformat": 4,
 "nbformat_minor": 5
}
