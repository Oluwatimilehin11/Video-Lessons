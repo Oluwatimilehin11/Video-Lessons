{
 "cells": [
  {
   "cell_type": "code",
   "execution_count": 11,
   "id": "c0554557-3478-4ed4-8ff2-f18dc6e74ae6",
   "metadata": {},
   "outputs": [
    {
     "ename": "SyntaxError",
     "evalue": "invalid syntax (<ipython-input-11-8a2bfa0842c4>, line 10)",
     "output_type": "error",
     "traceback": [
      "\u001b[1;36m  File \u001b[1;32m\"<ipython-input-11-8a2bfa0842c4>\"\u001b[1;36m, line \u001b[1;32m10\u001b[0m\n\u001b[1;33m    trials[]\u001b[0m\n\u001b[1;37m           ^\u001b[0m\n\u001b[1;31mSyntaxError\u001b[0m\u001b[1;31m:\u001b[0m invalid syntax\n"
     ]
    }
   ],
   "source": [
    "import random\n",
    "def coin_trial():\n",
    "    heads= 0 \n",
    "for i in range(100):\n",
    "    if random.random()<= 0.5:\n",
    "        heads += 1\n",
    "return heads\n",
    "\n",
    "def stimulate(n):\n",
    "    trials[]\n",
    "for i in range(n):\n",
    "    trials.append(coin_trial())return(sum(trials)/n)"
   ]
  },
  {
   "cell_type": "code",
   "execution_count": 12,
   "id": "0d3f7e24-ac5b-4b81-89aa-a413ca0feb71",
   "metadata": {},
   "outputs": [
    {
     "name": "stdout",
     "output_type": "stream",
     "text": [
      "13.0\n"
     ]
    }
   ],
   "source": [
    "cards=52\n",
    "aces=4\n",
    "amina= cards/aces\n",
    "print(round(amina,2))"
   ]
  },
  {
   "cell_type": "code",
   "execution_count": 14,
   "id": "58421754-dc36-4d01-b9ae-0fd4b12e3390",
   "metadata": {},
   "outputs": [
    {
     "name": "stdout",
     "output_type": "stream",
     "text": [
      "0.08\n"
     ]
    }
   ],
   "source": [
    "cards=52\n",
    "aces=4\n",
    "ace_probability= aces/cards\n",
    "print(round(ace_probability,2))"
   ]
  },
  {
   "cell_type": "code",
   "execution_count": 17,
   "id": "aeb45e31-7aca-4ef1-8046-53da1132f5d1",
   "metadata": {},
   "outputs": [
    {
     "name": "stdout",
     "output_type": "stream",
     "text": [
      "8.0%\n"
     ]
    }
   ],
   "source": [
    "ace_probability_percent = ace_probability*100\n",
    "print(str(round(ace_probability_percent,0)) + '%')"
   ]
  },
  {
   "cell_type": "code",
   "execution_count": 21,
   "id": "e3137122-2760-4506-8f6b-be798bb8b122",
   "metadata": {},
   "outputs": [],
   "source": [
    "def event_probability(event_outcomes,sample_space):\n",
    "    probability=(event_outcomes/sample_space) * 100\n",
    "    return round(probability,1)    \n",
    "\n",
    "\n"
   ]
  },
  {
   "cell_type": "code",
   "execution_count": 23,
   "id": "16ce9c4d-b04d-4f19-9020-408c2a9477a7",
   "metadata": {},
   "outputs": [],
   "source": [
    "cards=52\n",
    "hearts = 13\n",
    "heart_probability = event_probability(hearts, cards)"
   ]
  },
  {
   "cell_type": "code",
   "execution_count": 24,
   "id": "d5f0ab6a-05a1-44f3-8119-8b9f0ec39086",
   "metadata": {},
   "outputs": [],
   "source": [
    "face_cards = 12\n",
    "face_card_probability = event_probability(face_cards, cards)"
   ]
  },
  {
   "cell_type": "code",
   "execution_count": 25,
   "id": "51b84cb8-cb79-4293-b011-e58c6aca5564",
   "metadata": {},
   "outputs": [],
   "source": [
    "queen_of_hearts = 1\n",
    "queen_of_hearts_probability = event_probability(queen_of_hearts, cards)"
   ]
  },
  {
   "cell_type": "code",
   "execution_count": 26,
   "id": "10353f58-a438-4e8a-90ff-61093fbb57bf",
   "metadata": {},
   "outputs": [
    {
     "name": "stdout",
     "output_type": "stream",
     "text": [
      "25.0%\n",
      "23.1%\n",
      "1.9%\n"
     ]
    }
   ],
   "source": [
    "print(str(heart_probability) +'%')\n",
    "print(str(face_card_probability) +'%')\n",
    "print(str(queen_of_hearts_probability) +'%')"
   ]
  },
  {
   "cell_type": "markdown",
   "id": "e5abe5e4-8f5b-4f26-b1db-7127f8be2c0a",
   "metadata": {},
   "source": [
    "PERMUTATION CODE"
   ]
  },
  {
   "cell_type": "code",
   "execution_count": 32,
   "id": "177657ea-2762-44c1-a3cf-a25928150d07",
   "metadata": {},
   "outputs": [],
   "source": [
    "import math\n",
    "n = 4\n",
    "k =2"
   ]
  },
  {
   "cell_type": "code",
   "execution_count": 33,
   "id": "c7c630c3-f1d6-4cf7-9a57-85aa366f4e11",
   "metadata": {},
   "outputs": [
    {
     "name": "stdout",
     "output_type": "stream",
     "text": [
      "12.0\n"
     ]
    }
   ],
   "source": [
    "permutation = math.factorial(n)/math.factorial(k)\n",
    "print(permutation)"
   ]
  },
  {
   "cell_type": "markdown",
   "id": "bdf5d988-e8ef-4403-8d89-e944d55d07d5",
   "metadata": {},
   "source": [
    "### COMBINATION CODE"
   ]
  },
  {
   "cell_type": "code",
   "execution_count": 41,
   "id": "342a8bd0-23b2-4256-b521-12e777700256",
   "metadata": {},
   "outputs": [
    {
     "name": "stdout",
     "output_type": "stream",
     "text": [
      "2652.0\n"
     ]
    }
   ],
   "source": [
    "n=52\n",
    "k=2\n",
    "permutations = math.factorial(n) / math.factorial(n-k)\n",
    "print(permutations)"
   ]
  },
  {
   "cell_type": "code",
   "execution_count": 42,
   "id": "78f922b2-6d05-4b65-b816-2dfd80f61356",
   "metadata": {},
   "outputs": [
    {
     "name": "stdout",
     "output_type": "stream",
     "text": [
      "1326.0\n"
     ]
    }
   ],
   "source": [
    "combination=permutations/math.factorial(k)\n",
    "print(combination)"
   ]
  },
  {
   "cell_type": "code",
   "execution_count": 45,
   "id": "2b939690-5889-49c3-9ddf-24b6616be01e",
   "metadata": {},
   "outputs": [],
   "source": [
    "cards=52\n",
    "hole_cards=2\n",
    "turn_community_cards=4\n",
    "card= cards - (hole_cards + turn_community_cards)"
   ]
  },
  {
   "cell_type": "code",
   "execution_count": 47,
   "id": "e11cf987-0095-4169-b249-1154ebd554c5",
   "metadata": {},
   "outputs": [],
   "source": [
    "diamonds=13\n",
    "diamond_dry=4\n",
    "outs= diamonds-diamond_dry\n"
   ]
  },
  {
   "cell_type": "code",
   "execution_count": 51,
   "id": "a8244802-f927-488a-8b9b-57cc42b1c49a",
   "metadata": {},
   "outputs": [
    {
     "name": "stdout",
     "output_type": "stream",
     "text": [
      "19.6\n"
     ]
    }
   ],
   "source": [
    "flush_probability= event_probability(outs,card)\n",
    "print(flush_probability)"
   ]
  },
  {
   "cell_type": "code",
   "execution_count": 52,
   "id": "be348d50-cf3b-45a5-8cf0-953939c576be",
   "metadata": {},
   "outputs": [],
   "source": [
    "cards = 52\n",
    "hole_cards = 2\n",
    "turn_community_cards=4\n",
    "cards = cards - (hole_cards + turn_community_cards)\n"
   ]
  },
  {
   "cell_type": "code",
   "execution_count": 53,
   "id": "4d16934d-9752-4d4b-9fd7-93b78a15c219",
   "metadata": {},
   "outputs": [],
   "source": [
    "eights = 4\n",
    "kings = 4\n",
    "outs = eights + kings"
   ]
  },
  {
   "cell_type": "code",
   "execution_count": 54,
   "id": "bb13abdc-3057-4b34-a3f0-92df9bfa2469",
   "metadata": {},
   "outputs": [
    {
     "name": "stdout",
     "output_type": "stream",
     "text": [
      "17.4\n"
     ]
    }
   ],
   "source": [
    "river_straight_probability = event_probability (outs, cards)\n",
    "print(river_straight_probability)"
   ]
  },
  {
   "cell_type": "code",
   "execution_count": null,
   "id": "9acd5427-9bd4-4c52-a4fa-bccd17a7d2f0",
   "metadata": {},
   "outputs": [],
   "source": []
  }
 ],
 "metadata": {
  "kernelspec": {
   "display_name": "Python 3",
   "language": "python",
   "name": "python3"
  },
  "language_info": {
   "codemirror_mode": {
    "name": "ipython",
    "version": 3
   },
   "file_extension": ".py",
   "mimetype": "text/x-python",
   "name": "python",
   "nbconvert_exporter": "python",
   "pygments_lexer": "ipython3",
   "version": "3.8.8"
  }
 },
 "nbformat": 4,
 "nbformat_minor": 5
}
