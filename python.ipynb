{
 "cells": [
  {
   "cell_type": "code",
   "execution_count": 1,
   "id": "d1dd414e-bc27-4657-83be-0ee9e48302b5",
   "metadata": {},
   "outputs": [
    {
     "name": "stdout",
     "output_type": "stream",
     "text": [
      "Happy Birthday : joseph\n",
      "Happy Birthday : glenn\n",
      "Happy Birthday : sally\n"
     ]
    }
   ],
   "source": [
    "friends = ['joseph', 'glenn', 'sally']\n",
    "for friend in friends :\n",
    "    print('Happy Birthday :', friend)\n",
    "    "
   ]
  },
  {
   "cell_type": "code",
   "execution_count": 2,
   "id": "e0732141-71ce-4808-b09e-ee353a966483",
   "metadata": {},
   "outputs": [
    {
     "name": "stdout",
     "output_type": "stream",
     "text": [
      "5\n",
      "4\n",
      "3\n",
      "2\n",
      "1\n"
     ]
    }
   ],
   "source": [
    "for i in [5, 4, 3, 2, 1] :\n",
    "    print(i)"
   ]
  },
  {
   "cell_type": "code",
   "execution_count": 3,
   "id": "b5c4405e-2883-4295-8a3c-8b0b6cdc5248",
   "metadata": {},
   "outputs": [
    {
     "name": "stdout",
     "output_type": "stream",
     "text": [
      "Before\n",
      "9\n",
      "41\n",
      "12\n",
      "3\n",
      "74\n",
      "15\n",
      "After\n"
     ]
    }
   ],
   "source": [
    "print('Before')\n",
    "for thing in [9, 41, 12, 3, 74, 15]:\n",
    "    print(thing)\n",
    "print('After')"
   ]
  },
  {
   "cell_type": "code",
   "execution_count": 4,
   "id": "f8f5b75e-dd31-410d-b6e3-b4d9b62effd4",
   "metadata": {},
   "outputs": [
    {
     "name": "stdout",
     "output_type": "stream",
     "text": [
      "Befor 0\n",
      "9 9\n",
      "50 41\n",
      "62 12\n",
      "65 3\n",
      "139 74\n",
      "154 15\n",
      "After 154\n"
     ]
    }
   ],
   "source": [
    "zork = 0\n",
    "print('Befor', zork)\n",
    "for thing in [9, 41, 12, 3, 74, 15] :\n",
    "    zork =zork + thing\n",
    "    print(zork, thing)\n",
    "print ('After' , zork)    "
   ]
  },
  {
   "cell_type": "code",
   "execution_count": 5,
   "id": "e13d7674-2e82-4569-a627-0944e4bfa4e4",
   "metadata": {},
   "outputs": [
    {
     "name": "stdout",
     "output_type": "stream",
     "text": [
      "0\n",
      "1\n",
      "2\n",
      "3\n",
      "4\n",
      "1\n",
      "4\n",
      "6\n"
     ]
    }
   ],
   "source": [
    "for x in range (5):\n",
    " print (x)\n",
    "for i in [1, 13, 56, 4, 6] :\n",
    "    if i>10 :\n",
    "        continue\n",
    "    print(i)"
   ]
  },
  {
   "cell_type": "code",
   "execution_count": 6,
   "id": "c4296724-9e8c-402a-a3c5-e7c7ed81ff03",
   "metadata": {},
   "outputs": [
    {
     "name": "stdout",
     "output_type": "stream",
     "text": [
      "1\n",
      "2\n",
      "3\n",
      "4\n",
      "5\n",
      "6\n",
      "7\n",
      "8\n",
      "9\n",
      "10\n"
     ]
    }
   ],
   "source": [
    "for x in range (1,11):\n",
    "    print(x)"
   ]
  },
  {
   "cell_type": "code",
   "execution_count": 7,
   "id": "f1bc24bf-793e-4917-b782-c00889ff6727",
   "metadata": {},
   "outputs": [
    {
     "name": "stdout",
     "output_type": "stream",
     "text": [
      "[5, 14, 9, 17]\n"
     ]
    }
   ],
   "source": [
    "numbers = [5, 14, 9, 17]\n",
    "for number in numbers:\n",
    "    if number % 3 == 0:\n",
    "        print(numbers)"
   ]
  },
  {
   "cell_type": "code",
   "execution_count": 8,
   "id": "bc3b0b23-8f30-4135-8295-c84085754a64",
   "metadata": {},
   "outputs": [
    {
     "name": "stdout",
     "output_type": "stream",
     "text": [
      "Three is my limit\n"
     ]
    }
   ],
   "source": [
    "i = 0\n",
    "while i < 6:\n",
    "    i += 1\n",
    "    if i == 3:   \n",
    "        break\n",
    "print('Three is my limit')\n"
   ]
  },
  {
   "cell_type": "code",
   "execution_count": 9,
   "id": "baa65dda-e5b2-4045-8a7b-2230e8718bcb",
   "metadata": {},
   "outputs": [
    {
     "name": "stdout",
     "output_type": "stream",
     "text": [
      "3\n",
      "5\n",
      "7\n",
      "9\n"
     ]
    }
   ],
   "source": [
    "for i in range (3, 10, 2): \n",
    "    print(i)"
   ]
  },
  {
   "cell_type": "code",
   "execution_count": 10,
   "id": "004b1f61-a7bb-420a-8e73-540a4c8ad6ad",
   "metadata": {},
   "outputs": [
    {
     "name": "stdout",
     "output_type": "stream",
     "text": [
      "9\n"
     ]
    }
   ],
   "source": [
    "if i in range(10):\n",
    "     print(i)"
   ]
  },
  {
   "cell_type": "code",
   "execution_count": 11,
   "id": "c7a4bfb6-62d7-47c3-87cd-9730c9484e37",
   "metadata": {},
   "outputs": [
    {
     "name": "stdout",
     "output_type": "stream",
     "text": [
      "hello bob\n"
     ]
    }
   ],
   "source": [
    "greet = 'Hello Bob'\n",
    "zap = greet.lower()\n",
    "print(zap)"
   ]
  },
  {
   "cell_type": "code",
   "execution_count": 12,
   "id": "97579e58-bc33-4571-bb22-cab2d2f386cc",
   "metadata": {},
   "outputs": [
    {
     "name": "stdout",
     "output_type": "stream",
     "text": [
      "6\n"
     ]
    }
   ],
   "source": [
    "fruit = 'banana'\n",
    "x = len(fruit)\n",
    "print(x)\n"
   ]
  },
  {
   "cell_type": "code",
   "execution_count": 13,
   "id": "63be98af-e5d7-4e24-9f19-bb407e812f05",
   "metadata": {},
   "outputs": [
    {
     "name": "stdout",
     "output_type": "stream",
     "text": [
      "[1, 2, 3, 4, 5, 6]\n"
     ]
    }
   ],
   "source": [
    "a =[1, 2, 3]\n",
    "b = [4, 5, 6]\n",
    "c = a + b \n",
    "print(c)"
   ]
  },
  {
   "cell_type": "code",
   "execution_count": 14,
   "id": "3a649bd5-b22e-4067-9038-57495eb9593c",
   "metadata": {},
   "outputs": [
    {
     "data": {
      "text/plain": [
       "[9, 41, 12, 3]"
      ]
     },
     "execution_count": 14,
     "metadata": {},
     "output_type": "execute_result"
    }
   ],
   "source": [
    "t = [9, 41, 12, 3, 74, 15]\n",
    "t[1:3]\n",
    "t[4]\n",
    "t[:4]"
   ]
  },
  {
   "cell_type": "code",
   "execution_count": 15,
   "id": "748bc7f4-ddb5-4f6f-b773-fe637b2fbd9b",
   "metadata": {},
   "outputs": [
    {
     "data": {
      "text/plain": [
       "[9, 41, 12, 3, 74, 15]"
      ]
     },
     "execution_count": 15,
     "metadata": {},
     "output_type": "execute_result"
    }
   ],
   "source": [
    "t[3:]\n",
    "t[:]"
   ]
  },
  {
   "cell_type": "code",
   "execution_count": 16,
   "id": "7ceeaf7b-cf45-4111-96d4-d1c777d109dd",
   "metadata": {},
   "outputs": [
    {
     "name": "stdout",
     "output_type": "stream",
     "text": [
      "['book', 99]\n"
     ]
    }
   ],
   "source": [
    "stuff = list()\n",
    "stuff.append('book')\n",
    "stuff.append(99)\n",
    "print(stuff)"
   ]
  },
  {
   "cell_type": "code",
   "execution_count": 10,
   "id": "52f61e66-d77b-4d81-baab-1a1c13d81061",
   "metadata": {},
   "outputs": [
    {
     "name": "stdout",
     "output_type": "stream",
     "text": [
      "[1, 2, 3, 4]\n",
      "['a', 'b', 'c', 'd']\n"
     ]
    }
   ],
   "source": [
    "num=[1, 2, 3, 4]\n",
    "print(num)\n",
    "latter=['a', 'b', 'c', 'd']\n",
    "print(latter)"
   ]
  },
  {
   "cell_type": "code",
   "execution_count": 17,
   "id": "ab998771-8323-40d8-ab72-c492d914b52e",
   "metadata": {},
   "outputs": [
    {
     "name": "stdout",
     "output_type": "stream",
     "text": [
      "['get', 'certified', 'get', 'ahead']\n"
     ]
    }
   ],
   "source": [
    "stg=['get', 'certified', 'get', 'ahead']\n",
    "print(stg)"
   ]
  },
  {
   "cell_type": "code",
   "execution_count": 2,
   "id": "2555a29d-417d-4ce0-b43c-0aece79a51b1",
   "metadata": {},
   "outputs": [
    {
     "name": "stdout",
     "output_type": "stream",
     "text": [
      "[1, 6, 'simplilearn', 'get', 'certified']\n"
     ]
    }
   ],
   "source": [
    "mix=[1, 6, 'simplilearn', 'get', 'certified']\n",
    "print(mix)"
   ]
  },
  {
   "cell_type": "code",
   "execution_count": 20,
   "id": "e53579ed-f67b-40ae-b906-a34f2359c4a5",
   "metadata": {},
   "outputs": [
    {
     "name": "stdout",
     "output_type": "stream",
     "text": [
      "[[1, 2], ['a', 'b']]\n"
     ]
    }
   ],
   "source": [
    "mat=[[1, 2], ['a', 'b']]\n",
    "print(mat)"
   ]
  },
  {
   "cell_type": "code",
   "execution_count": 21,
   "id": "7d860ab0-874a-4f6b-878d-576ddd68056a",
   "metadata": {},
   "outputs": [
    {
     "data": {
      "text/plain": [
       "'get'"
      ]
     },
     "execution_count": 21,
     "metadata": {},
     "output_type": "execute_result"
    }
   ],
   "source": [
    "mix[3]"
   ]
  },
  {
   "cell_type": "code",
   "execution_count": 22,
   "id": "fc8e2f08-3de1-43cc-83dc-e4a5d9fbbf47",
   "metadata": {},
   "outputs": [
    {
     "data": {
      "text/plain": [
       "'certified'"
      ]
     },
     "execution_count": 22,
     "metadata": {},
     "output_type": "execute_result"
    }
   ],
   "source": [
    "mix[4]"
   ]
  },
  {
   "cell_type": "code",
   "execution_count": 23,
   "id": "73fdc68e-ffa5-4b60-a05b-606e03d71f17",
   "metadata": {},
   "outputs": [
    {
     "data": {
      "text/plain": [
       "['simplilearn', 'get']"
      ]
     },
     "execution_count": 23,
     "metadata": {},
     "output_type": "execute_result"
    }
   ],
   "source": [
    "mix[2:4]"
   ]
  },
  {
   "cell_type": "code",
   "execution_count": 3,
   "id": "4f67da25-bbb2-4671-88fc-9a4937948c58",
   "metadata": {},
   "outputs": [
    {
     "data": {
      "text/plain": [
       "['certified', 'get', 'simplilearn', 6, 1]"
      ]
     },
     "execution_count": 3,
     "metadata": {},
     "output_type": "execute_result"
    }
   ],
   "source": [
    "mix[::-1]"
   ]
  },
  {
   "cell_type": "code",
   "execution_count": 4,
   "id": "5af7b567-6750-4da6-8de8-f0d59d515861",
   "metadata": {},
   "outputs": [
    {
     "name": "stdout",
     "output_type": "stream",
     "text": [
      "[0, 0, 0, 0, 0, 0, 0, 0, 0, 0, 0, 0, 0, 0, 0, 0, 0, 0, 0, 0, 0, 0, 0, 0, 0, 0, 0, 0, 0, 0, 0, 0, 0, 0, 0, 0, 0, 0, 0, 0, 0, 0, 0, 0, 0, 0, 0, 0, 0, 0, 0, 0, 0, 0, 0, 0, 0, 0, 0, 0, 0, 0, 0, 0, 0, 0, 0, 0, 0, 0, 0, 0, 0, 0, 0, 0, 0, 0, 0, 0, 0, 0, 0, 0, 0, 0, 0, 0, 0, 0, 0, 0, 0, 0, 0, 0, 0, 0, 0, 0]\n"
     ]
    }
   ],
   "source": [
    "z=[0]*100\n",
    "print(z)"
   ]
  },
  {
   "cell_type": "code",
   "execution_count": 7,
   "id": "3d783002-1258-457e-bf14-1c8581bb6b86",
   "metadata": {},
   "outputs": [
    {
     "name": "stdout",
     "output_type": "stream",
     "text": [
      "['g', 'e', 't', ' ', 'c', 'e', 'r', 't', 'i', 'f', 'i', 'e', 'd', ' ', 'g', 'e', 't', ' ', 'a', 'h', 'e', 'a', 'd']\n"
     ]
    }
   ],
   "source": [
    "var= list('get certified get ahead')\n",
    "print(var)"
   ]
  },
  {
   "cell_type": "code",
   "execution_count": 11,
   "id": "a56c45d4-455f-44de-abdd-541a310c1b1e",
   "metadata": {},
   "outputs": [
    {
     "name": "stdout",
     "output_type": "stream",
     "text": [
      "[1, 2, 3, 4]\n"
     ]
    }
   ],
   "source": [
    "print(num)"
   ]
  },
  {
   "cell_type": "code",
   "execution_count": 12,
   "id": "c8bcc742-6ad1-40e4-8e8f-c0dc93bd4481",
   "metadata": {},
   "outputs": [
    {
     "name": "stdout",
     "output_type": "stream",
     "text": [
      "1\n",
      "[2, 3, 4]\n"
     ]
    }
   ],
   "source": [
    "one, *other= num\n",
    "print(one)\n",
    "print(other)"
   ]
  },
  {
   "cell_type": "code",
   "execution_count": 13,
   "id": "80a2f64a-621a-4136-bc4d-c05565ebe124",
   "metadata": {},
   "outputs": [
    {
     "name": "stdout",
     "output_type": "stream",
     "text": [
      "1\n",
      "[2, 3, 4]\n"
     ]
    }
   ],
   "source": [
    "two, *other= num\n",
    "print(two)\n",
    "print(other)"
   ]
  },
  {
   "cell_type": "code",
   "execution_count": 15,
   "id": "4bc8b50f-46bc-4979-b200-dd3ed75a6814",
   "metadata": {},
   "outputs": [
    {
     "name": "stdout",
     "output_type": "stream",
     "text": [
      "[1, 2, 3, 4, 6, 6]\n"
     ]
    }
   ],
   "source": [
    "num.append(6)\n",
    "print(num)"
   ]
  },
  {
   "cell_type": "code",
   "execution_count": 18,
   "id": "a5e9cbb1-e415-4a01-9523-8489b4a83874",
   "metadata": {},
   "outputs": [
    {
     "name": "stdout",
     "output_type": "stream",
     "text": [
      "[1, 2, 3, 4, 6, 6, 'get', 'certified', 'get', 'ahead']\n"
     ]
    }
   ],
   "source": [
    "num.extend(stg)\n",
    "print(num)"
   ]
  },
  {
   "cell_type": "code",
   "execution_count": 19,
   "id": "84d05941-69ce-44e1-b736-6cf83dcc8bc8",
   "metadata": {},
   "outputs": [
    {
     "name": "stdout",
     "output_type": "stream",
     "text": [
      "[1, 2, 3, 4, 6, 6, 'simplilern', 'get', 'certified', 'get', 'ahead']\n"
     ]
    }
   ],
   "source": [
    "num.insert(6, 'simplilern')\n",
    "print(num)"
   ]
  },
  {
   "cell_type": "code",
   "execution_count": 21,
   "id": "4279a69b-2596-4bfe-9763-fa2f0edbff44",
   "metadata": {},
   "outputs": [
    {
     "name": "stdout",
     "output_type": "stream",
     "text": [
      "[]\n"
     ]
    }
   ],
   "source": [
    "sampleList = [10, 20, 30, 40]\n",
    "del sampleList[0:6]\n",
    "print(sampleList)"
   ]
  },
  {
   "cell_type": "code",
   "execution_count": 22,
   "id": "2f10d9da-040f-42e6-95a8-06c54023cabb",
   "metadata": {},
   "outputs": [
    {
     "name": "stdout",
     "output_type": "stream",
     "text": [
      "b\n",
      "a\n",
      "n\n",
      "a\n",
      "n\n",
      "a\n"
     ]
    }
   ],
   "source": [
    "n=('banana')\n",
    "for n in 'banana':\n",
    "    print(n)"
   ]
  },
  {
   "cell_type": "code",
   "execution_count": 23,
   "id": "9738c294-f6a2-48b6-997f-87f279c96d8e",
   "metadata": {},
   "outputs": [
    {
     "name": "stdout",
     "output_type": "stream",
     "text": [
      "2\n"
     ]
    }
   ],
   "source": [
    "word = 'banana'\n",
    "i = word.find('na')\n",
    "print(i)\n"
   ]
  },
  {
   "cell_type": "code",
   "execution_count": 25,
   "id": "89ca52f7-2d76-4569-a895-c9f0fe1b53af",
   "metadata": {},
   "outputs": [
    {
     "name": "stdout",
     "output_type": "stream",
     "text": [
      "{'csev': 1}\n",
      "{'csev': 1, 'cwen': 1}\n",
      "{'csev': 2, 'cwen': 1}\n",
      "{'csev': 2, 'cwen': 1, 'zqian': 1}\n",
      "{'csev': 2, 'cwen': 2, 'zqian': 1}\n"
     ]
    }
   ],
   "source": [
    "counts = dict()\n",
    "names = ['csev', 'cwen', 'csev', 'zqian', 'cwen']\n",
    "for name in names : \n",
    "    counts[name] = counts.get(name, 0) + 1\n",
    "    print(counts)"
   ]
  },
  {
   "cell_type": "code",
   "execution_count": 26,
   "id": "de2ddcd7-d100-44ea-ac4a-0198333421fb",
   "metadata": {},
   "outputs": [
    {
     "name": "stdout",
     "output_type": "stream",
     "text": [
      "{'name': {'first': 'sam', 'last': 'crew'}, 'age': 22, 'proffesion': 'student'}\n"
     ]
    }
   ],
   "source": [
    "d6={'name':{'first': 'sam', 'last': 'crew'}, 'age': 22, 'proffesion': 'student'}\n",
    "print(d6)"
   ]
  },
  {
   "cell_type": "code",
   "execution_count": 27,
   "id": "26954035-bc3d-40fb-af98-be91393815b2",
   "metadata": {},
   "outputs": [
    {
     "name": "stdout",
     "output_type": "stream",
     "text": [
      "{0: 'welcome'}\n"
     ]
    }
   ],
   "source": [
    "d={}\n",
    "d[0]='welcome'\n",
    "print(d)"
   ]
  },
  {
   "cell_type": "code",
   "execution_count": 28,
   "id": "03586e82-cdbb-4944-b892-4aff6936aae3",
   "metadata": {},
   "outputs": [
    {
     "name": "stdout",
     "output_type": "stream",
     "text": [
      "{0: 'welcome', 1: ('how', 'are', 'you')}\n"
     ]
    }
   ],
   "source": [
    "d[1]=('how', 'are', 'you')\n",
    "print(d)"
   ]
  },
  {
   "cell_type": "code",
   "execution_count": 29,
   "id": "dfcfcc0b-36b2-4a11-8906-2f2dd76fdca6",
   "metadata": {},
   "outputs": [
    {
     "data": {
      "text/plain": [
       "{'c': 1, 'd': 1, 'a': 1, 'b': 1}"
      ]
     },
     "execution_count": 29,
     "metadata": {},
     "output_type": "execute_result"
    }
   ],
   "source": [
    "keys={'a','b','c','d'}\n",
    "value=1\n",
    "dict.fromkeys(keys,value)"
   ]
  },
  {
   "cell_type": "code",
   "execution_count": 30,
   "id": "fa0a7536-4ec5-436f-af3e-91669f173f44",
   "metadata": {},
   "outputs": [
    {
     "name": "stdout",
     "output_type": "stream",
     "text": [
      "{}\n"
     ]
    }
   ],
   "source": [
    "d.clear()\n",
    "print(d)"
   ]
  },
  {
   "cell_type": "code",
   "execution_count": 7,
   "id": "bbf8b83b-6fa2-4544-8887-ca3c4b984402",
   "metadata": {},
   "outputs": [],
   "source": [
    "\n",
    "\n",
    "my_name= 'ayomide'\n"
   ]
  },
  {
   "cell_type": "code",
   "execution_count": 10,
   "id": "a1146751-390d-4028-81c1-0a6e0ee1c632",
   "metadata": {},
   "outputs": [
    {
     "name": "stdout",
     "output_type": "stream",
     "text": [
      "['ahello', 'yhello', 'ohello', 'mhello', 'ihello', 'dhello', 'ehello']\n"
     ]
    }
   ],
   "source": [
    "print([x +'hello' for x in my_name])"
   ]
  },
  {
   "cell_type": "code",
   "execution_count": null,
   "id": "5101d770-48a3-4531-9e6e-6bc9a6e8badf",
   "metadata": {},
   "outputs": [],
   "source": []
  }
 ],
 "metadata": {
  "kernelspec": {
   "display_name": "Python 3",
   "language": "python",
   "name": "python3"
  },
  "language_info": {
   "codemirror_mode": {
    "name": "ipython",
    "version": 3
   },
   "file_extension": ".py",
   "mimetype": "text/x-python",
   "name": "python",
   "nbconvert_exporter": "python",
   "pygments_lexer": "ipython3",
   "version": "3.8.8"
  }
 },
 "nbformat": 4,
 "nbformat_minor": 5
}
