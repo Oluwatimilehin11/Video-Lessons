{
 "cells": [
  {
   "cell_type": "code",
   "execution_count": 1,
   "id": "efaf56f6-933c-4d0e-b3c3-63826adfc336",
   "metadata": {},
   "outputs": [
    {
     "name": "stdout",
     "output_type": "stream",
     "text": [
      "{'csev': 1}\n",
      "{'csev': 1, 'cwen': 1}\n",
      "{'csev': 2, 'cwen': 1}\n",
      "{'csev': 2, 'cwen': 1, 'zqian': 1}\n",
      "{'csev': 2, 'cwen': 2, 'zqian': 1}\n"
     ]
    }
   ],
   "source": [
    "counts = dict()\n",
    "names = ['csev', 'cwen', 'csev', 'zqian', 'cwen']\n",
    "for name in names : \n",
    "    counts[name] = counts.get(name, 0) + 1\n",
    "    print(counts)"
   ]
  },
  {
   "cell_type": "code",
   "execution_count": 2,
   "id": "34004a66-52a8-4bba-8469-7c51ce65bc83",
   "metadata": {},
   "outputs": [
    {
     "name": "stdout",
     "output_type": "stream",
     "text": [
      "{'name': {'first': 'sam', 'last': 'crew'}, 'age': 22, 'proffesion': 'student'}\n"
     ]
    }
   ],
   "source": [
    "d6={'name':{'first': 'sam', 'last': 'crew'}, 'age': 22, 'proffesion': 'student'}\n",
    "print(d6)"
   ]
  },
  {
   "cell_type": "code",
   "execution_count": 3,
   "id": "8931f8f3-2b67-44a9-874a-eb6eaf8190d4",
   "metadata": {},
   "outputs": [
    {
     "name": "stdout",
     "output_type": "stream",
     "text": [
      "{0: 'welcome'}\n"
     ]
    }
   ],
   "source": [
    "d={}\n",
    "d[0]='welcome'\n",
    "print(d)"
   ]
  },
  {
   "cell_type": "code",
   "execution_count": 4,
   "id": "b532c00a-2417-496b-90c1-10de9f5022f4",
   "metadata": {},
   "outputs": [
    {
     "name": "stdout",
     "output_type": "stream",
     "text": [
      "{0: 'welcome', 1: ('how', 'are', 'you')}\n"
     ]
    }
   ],
   "source": [
    "d[1]=('how', 'are', 'you')\n",
    "print(d)"
   ]
  },
  {
   "cell_type": "code",
   "execution_count": 5,
   "id": "86e18dcf-f816-4353-8b76-89ebba53e93b",
   "metadata": {},
   "outputs": [
    {
     "data": {
      "text/plain": [
       "{'a': 1, 'b': 1, 'd': 1, 'c': 1}"
      ]
     },
     "execution_count": 5,
     "metadata": {},
     "output_type": "execute_result"
    }
   ],
   "source": [
    "keys={'a','b','c','d'}\n",
    "value=1\n",
    "dict.fromkeys(keys,value)"
   ]
  },
  {
   "cell_type": "code",
   "execution_count": 6,
   "id": "3bf853b2-3fa7-4cf5-a3bc-0adcbadeb9f1",
   "metadata": {},
   "outputs": [
    {
     "name": "stdout",
     "output_type": "stream",
     "text": [
      "{}\n"
     ]
    }
   ],
   "source": [
    "d.clear()\n",
    "print(d)"
   ]
  },
  {
   "cell_type": "code",
   "execution_count": null,
   "id": "3b9ab255-e938-495b-a3f1-c97c0139c331",
   "metadata": {},
   "outputs": [],
   "source": []
  }
 ],
 "metadata": {
  "kernelspec": {
   "display_name": "Python 3",
   "language": "python",
   "name": "python3"
  },
  "language_info": {
   "codemirror_mode": {
    "name": "ipython",
    "version": 3
   },
   "file_extension": ".py",
   "mimetype": "text/x-python",
   "name": "python",
   "nbconvert_exporter": "python",
   "pygments_lexer": "ipython3",
   "version": "3.8.8"
  }
 },
 "nbformat": 4,
 "nbformat_minor": 5
}
